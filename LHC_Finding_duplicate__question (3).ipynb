{
  "nbformat": 4,
  "nbformat_minor": 0,
  "metadata": {
    "colab": {
      "name": "LHC_Finding_duplicate _question.ipynb",
      "provenance": [],
      "collapsed_sections": []
    },
    "kernelspec": {
      "name": "python3",
      "display_name": "Python 3"
    },
    "language_info": {
      "name": "python"
    }
  },
  "cells": [
    {
      "cell_type": "code",
      "execution_count": 2,
      "metadata": {
        "id": "u9NMmSttB1Vz"
      },
      "outputs": [],
      "source": [
        "import numpy as np\n",
        "import pandas as pd\n",
        "import seaborn as sns\n",
        "import matplotlib.pyplot as plt\n",
        "from subprocess import check_output\n",
        "%matplotlib inline\n"
      ]
    },
    {
      "cell_type": "code",
      "source": [
        "from google.colab import drive\n",
        "drive.mount('/content/drive')"
      ],
      "metadata": {
        "colab": {
          "base_uri": "https://localhost:8080/"
        },
        "id": "73QILsLlEACV",
        "outputId": "0cf63727-883c-40a0-8c13-4d8d20cc89d3"
      },
      "execution_count": 3,
      "outputs": [
        {
          "output_type": "stream",
          "name": "stdout",
          "text": [
            "Mounted at /content/drive\n"
          ]
        }
      ]
    },
    {
      "cell_type": "markdown",
      "source": [
        "Id primary key\n",
        "\n",
        "CreationDate when the link was created\n",
        "\n",
        "PostId id of source post\n",
        "\n",
        "RelatedPostId id of target/related post\n",
        "\n",
        "LinkTypeId type of link\n",
        "\n",
        "1 = Linked (PostId contains a link to RelatedPostId)\n",
        "\n",
        "3 = Duplicate (PostId is a duplicate of RelatedPostId)\n"
      ],
      "metadata": {
        "id": "IP013kuZFsMv"
      }
    },
    {
      "cell_type": "code",
      "source": [
        "data= pd.read_csv('/content/drive/MyDrive/Machine learning/LHC dataset/dataset/posts_short.csv')"
      ],
      "metadata": {
        "colab": {
          "base_uri": "https://localhost:8080/"
        },
        "id": "fM7JMITeGglJ",
        "outputId": "ee58f841-0ef7-4a07-cdd9-802cc0ff1c8f"
      },
      "execution_count": 4,
      "outputs": [
        {
          "output_type": "stream",
          "name": "stderr",
          "text": [
            "/usr/local/lib/python3.7/dist-packages/IPython/core/interactiveshell.py:2882: DtypeWarning: Columns (13) have mixed types.Specify dtype option on import or set low_memory=False.\n",
            "  exec(code_obj, self.user_global_ns, self.user_ns)\n"
          ]
        }
      ]
    },
    {
      "cell_type": "code",
      "source": [
        "data"
      ],
      "metadata": {
        "colab": {
          "base_uri": "https://localhost:8080/",
          "height": 991
        },
        "id": "wUuRgV38Mbzj",
        "outputId": "a17674c7-9bf6-4f6e-8bc5-a40d501a6dd4"
      },
      "execution_count": 5,
      "outputs": [
        {
          "output_type": "execute_result",
          "data": {
            "text/plain": [
              "        Unnamed: 0        id  post_type_id  accepted_answer_id  parent_id  \\\n",
              "0                0         4             1                   7       -999   \n",
              "1                1         6             1                  31       -999   \n",
              "2                2         9             1                1404       -999   \n",
              "3                3        11             1                1248       -999   \n",
              "4                4        13             1                -999       -999   \n",
              "...            ...       ...           ...                 ...        ...   \n",
              "676199      676199  52133457             1                -999       -999   \n",
              "676200      676200  52133674             1                -999       -999   \n",
              "676201      676201  52133700             1                -999       -999   \n",
              "676202      676202  52133880             1                -999       -999   \n",
              "676203      676203  52134121             1                -999       -999   \n",
              "\n",
              "                  creation_date  score  view_count  owner_user_id  \\\n",
              "0       2008-07-31T21:42:52.667    573       37080              8   \n",
              "1       2008-07-31T22:08:08.620    256       16306              9   \n",
              "2       2008-07-31T23:40:59.743   1743      480476              1   \n",
              "3       2008-07-31T23:55:37.967   1348      136033              1   \n",
              "4       2008-08-01T00:42:38.903    539      157009              9   \n",
              "...                         ...    ...         ...            ...   \n",
              "676199  2018-09-02T02:10:04.210      0          14        4101319   \n",
              "676200  2018-09-02T03:08:51.103     -3          16        9815281   \n",
              "676201  2018-09-02T03:15:42.997      0          23        4044009   \n",
              "676202  2018-09-02T04:04:31.570      0          15       10271692   \n",
              "676203  2018-09-02T05:02:16.480      0          12       10049938   \n",
              "\n",
              "                                                     tags  answer_count  \\\n",
              "0       <c#><floating-point><type-conversion><double><...            13   \n",
              "1                  <html><css><css3><internet-explorer-7>             5   \n",
              "2                                    <c#><.net><datetime>            64   \n",
              "3       <c#><datetime><time><datediff><relative-time-s...            35   \n",
              "4       <javascript><html><browser><timezone><timezone...            25   \n",
              "...                                                   ...           ...   \n",
              "676199                                   <python><import>             0   \n",
              "676200                   <java><firebase><android-studio>             0   \n",
              "676201                                                <c>             0   \n",
              "676202                         <angularjs><node.js><ajax>             1   \n",
              "676203                                        <php><html>             2   \n",
              "\n",
              "        comment_count  favorite_count     community_owned_date  \n",
              "0                   1              41  2012-10-31T16:42:47.213  \n",
              "1                   0              10                      NaN  \n",
              "2                   7             399  2011-08-16T19:40:43.080  \n",
              "3                   3             529  2009-09-04T13:15:59.820  \n",
              "4                   6             137                      NaN  \n",
              "...               ...             ...                      ...  \n",
              "676199              0               0                      NaN  \n",
              "676200              2               0                      NaN  \n",
              "676201              1               0                      NaN  \n",
              "676202              1               0                      NaN  \n",
              "676203              1               0                      NaN  \n",
              "\n",
              "[676204 rows x 14 columns]"
            ],
            "text/html": [
              "\n",
              "  <div id=\"df-98388766-c9ef-4413-9632-68bb4f64d745\">\n",
              "    <div class=\"colab-df-container\">\n",
              "      <div>\n",
              "<style scoped>\n",
              "    .dataframe tbody tr th:only-of-type {\n",
              "        vertical-align: middle;\n",
              "    }\n",
              "\n",
              "    .dataframe tbody tr th {\n",
              "        vertical-align: top;\n",
              "    }\n",
              "\n",
              "    .dataframe thead th {\n",
              "        text-align: right;\n",
              "    }\n",
              "</style>\n",
              "<table border=\"1\" class=\"dataframe\">\n",
              "  <thead>\n",
              "    <tr style=\"text-align: right;\">\n",
              "      <th></th>\n",
              "      <th>Unnamed: 0</th>\n",
              "      <th>id</th>\n",
              "      <th>post_type_id</th>\n",
              "      <th>accepted_answer_id</th>\n",
              "      <th>parent_id</th>\n",
              "      <th>creation_date</th>\n",
              "      <th>score</th>\n",
              "      <th>view_count</th>\n",
              "      <th>owner_user_id</th>\n",
              "      <th>tags</th>\n",
              "      <th>answer_count</th>\n",
              "      <th>comment_count</th>\n",
              "      <th>favorite_count</th>\n",
              "      <th>community_owned_date</th>\n",
              "    </tr>\n",
              "  </thead>\n",
              "  <tbody>\n",
              "    <tr>\n",
              "      <th>0</th>\n",
              "      <td>0</td>\n",
              "      <td>4</td>\n",
              "      <td>1</td>\n",
              "      <td>7</td>\n",
              "      <td>-999</td>\n",
              "      <td>2008-07-31T21:42:52.667</td>\n",
              "      <td>573</td>\n",
              "      <td>37080</td>\n",
              "      <td>8</td>\n",
              "      <td>&lt;c#&gt;&lt;floating-point&gt;&lt;type-conversion&gt;&lt;double&gt;&lt;...</td>\n",
              "      <td>13</td>\n",
              "      <td>1</td>\n",
              "      <td>41</td>\n",
              "      <td>2012-10-31T16:42:47.213</td>\n",
              "    </tr>\n",
              "    <tr>\n",
              "      <th>1</th>\n",
              "      <td>1</td>\n",
              "      <td>6</td>\n",
              "      <td>1</td>\n",
              "      <td>31</td>\n",
              "      <td>-999</td>\n",
              "      <td>2008-07-31T22:08:08.620</td>\n",
              "      <td>256</td>\n",
              "      <td>16306</td>\n",
              "      <td>9</td>\n",
              "      <td>&lt;html&gt;&lt;css&gt;&lt;css3&gt;&lt;internet-explorer-7&gt;</td>\n",
              "      <td>5</td>\n",
              "      <td>0</td>\n",
              "      <td>10</td>\n",
              "      <td>NaN</td>\n",
              "    </tr>\n",
              "    <tr>\n",
              "      <th>2</th>\n",
              "      <td>2</td>\n",
              "      <td>9</td>\n",
              "      <td>1</td>\n",
              "      <td>1404</td>\n",
              "      <td>-999</td>\n",
              "      <td>2008-07-31T23:40:59.743</td>\n",
              "      <td>1743</td>\n",
              "      <td>480476</td>\n",
              "      <td>1</td>\n",
              "      <td>&lt;c#&gt;&lt;.net&gt;&lt;datetime&gt;</td>\n",
              "      <td>64</td>\n",
              "      <td>7</td>\n",
              "      <td>399</td>\n",
              "      <td>2011-08-16T19:40:43.080</td>\n",
              "    </tr>\n",
              "    <tr>\n",
              "      <th>3</th>\n",
              "      <td>3</td>\n",
              "      <td>11</td>\n",
              "      <td>1</td>\n",
              "      <td>1248</td>\n",
              "      <td>-999</td>\n",
              "      <td>2008-07-31T23:55:37.967</td>\n",
              "      <td>1348</td>\n",
              "      <td>136033</td>\n",
              "      <td>1</td>\n",
              "      <td>&lt;c#&gt;&lt;datetime&gt;&lt;time&gt;&lt;datediff&gt;&lt;relative-time-s...</td>\n",
              "      <td>35</td>\n",
              "      <td>3</td>\n",
              "      <td>529</td>\n",
              "      <td>2009-09-04T13:15:59.820</td>\n",
              "    </tr>\n",
              "    <tr>\n",
              "      <th>4</th>\n",
              "      <td>4</td>\n",
              "      <td>13</td>\n",
              "      <td>1</td>\n",
              "      <td>-999</td>\n",
              "      <td>-999</td>\n",
              "      <td>2008-08-01T00:42:38.903</td>\n",
              "      <td>539</td>\n",
              "      <td>157009</td>\n",
              "      <td>9</td>\n",
              "      <td>&lt;javascript&gt;&lt;html&gt;&lt;browser&gt;&lt;timezone&gt;&lt;timezone...</td>\n",
              "      <td>25</td>\n",
              "      <td>6</td>\n",
              "      <td>137</td>\n",
              "      <td>NaN</td>\n",
              "    </tr>\n",
              "    <tr>\n",
              "      <th>...</th>\n",
              "      <td>...</td>\n",
              "      <td>...</td>\n",
              "      <td>...</td>\n",
              "      <td>...</td>\n",
              "      <td>...</td>\n",
              "      <td>...</td>\n",
              "      <td>...</td>\n",
              "      <td>...</td>\n",
              "      <td>...</td>\n",
              "      <td>...</td>\n",
              "      <td>...</td>\n",
              "      <td>...</td>\n",
              "      <td>...</td>\n",
              "      <td>...</td>\n",
              "    </tr>\n",
              "    <tr>\n",
              "      <th>676199</th>\n",
              "      <td>676199</td>\n",
              "      <td>52133457</td>\n",
              "      <td>1</td>\n",
              "      <td>-999</td>\n",
              "      <td>-999</td>\n",
              "      <td>2018-09-02T02:10:04.210</td>\n",
              "      <td>0</td>\n",
              "      <td>14</td>\n",
              "      <td>4101319</td>\n",
              "      <td>&lt;python&gt;&lt;import&gt;</td>\n",
              "      <td>0</td>\n",
              "      <td>0</td>\n",
              "      <td>0</td>\n",
              "      <td>NaN</td>\n",
              "    </tr>\n",
              "    <tr>\n",
              "      <th>676200</th>\n",
              "      <td>676200</td>\n",
              "      <td>52133674</td>\n",
              "      <td>1</td>\n",
              "      <td>-999</td>\n",
              "      <td>-999</td>\n",
              "      <td>2018-09-02T03:08:51.103</td>\n",
              "      <td>-3</td>\n",
              "      <td>16</td>\n",
              "      <td>9815281</td>\n",
              "      <td>&lt;java&gt;&lt;firebase&gt;&lt;android-studio&gt;</td>\n",
              "      <td>0</td>\n",
              "      <td>2</td>\n",
              "      <td>0</td>\n",
              "      <td>NaN</td>\n",
              "    </tr>\n",
              "    <tr>\n",
              "      <th>676201</th>\n",
              "      <td>676201</td>\n",
              "      <td>52133700</td>\n",
              "      <td>1</td>\n",
              "      <td>-999</td>\n",
              "      <td>-999</td>\n",
              "      <td>2018-09-02T03:15:42.997</td>\n",
              "      <td>0</td>\n",
              "      <td>23</td>\n",
              "      <td>4044009</td>\n",
              "      <td>&lt;c&gt;</td>\n",
              "      <td>0</td>\n",
              "      <td>1</td>\n",
              "      <td>0</td>\n",
              "      <td>NaN</td>\n",
              "    </tr>\n",
              "    <tr>\n",
              "      <th>676202</th>\n",
              "      <td>676202</td>\n",
              "      <td>52133880</td>\n",
              "      <td>1</td>\n",
              "      <td>-999</td>\n",
              "      <td>-999</td>\n",
              "      <td>2018-09-02T04:04:31.570</td>\n",
              "      <td>0</td>\n",
              "      <td>15</td>\n",
              "      <td>10271692</td>\n",
              "      <td>&lt;angularjs&gt;&lt;node.js&gt;&lt;ajax&gt;</td>\n",
              "      <td>1</td>\n",
              "      <td>1</td>\n",
              "      <td>0</td>\n",
              "      <td>NaN</td>\n",
              "    </tr>\n",
              "    <tr>\n",
              "      <th>676203</th>\n",
              "      <td>676203</td>\n",
              "      <td>52134121</td>\n",
              "      <td>1</td>\n",
              "      <td>-999</td>\n",
              "      <td>-999</td>\n",
              "      <td>2018-09-02T05:02:16.480</td>\n",
              "      <td>0</td>\n",
              "      <td>12</td>\n",
              "      <td>10049938</td>\n",
              "      <td>&lt;php&gt;&lt;html&gt;</td>\n",
              "      <td>2</td>\n",
              "      <td>1</td>\n",
              "      <td>0</td>\n",
              "      <td>NaN</td>\n",
              "    </tr>\n",
              "  </tbody>\n",
              "</table>\n",
              "<p>676204 rows × 14 columns</p>\n",
              "</div>\n",
              "      <button class=\"colab-df-convert\" onclick=\"convertToInteractive('df-98388766-c9ef-4413-9632-68bb4f64d745')\"\n",
              "              title=\"Convert this dataframe to an interactive table.\"\n",
              "              style=\"display:none;\">\n",
              "        \n",
              "  <svg xmlns=\"http://www.w3.org/2000/svg\" height=\"24px\"viewBox=\"0 0 24 24\"\n",
              "       width=\"24px\">\n",
              "    <path d=\"M0 0h24v24H0V0z\" fill=\"none\"/>\n",
              "    <path d=\"M18.56 5.44l.94 2.06.94-2.06 2.06-.94-2.06-.94-.94-2.06-.94 2.06-2.06.94zm-11 1L8.5 8.5l.94-2.06 2.06-.94-2.06-.94L8.5 2.5l-.94 2.06-2.06.94zm10 10l.94 2.06.94-2.06 2.06-.94-2.06-.94-.94-2.06-.94 2.06-2.06.94z\"/><path d=\"M17.41 7.96l-1.37-1.37c-.4-.4-.92-.59-1.43-.59-.52 0-1.04.2-1.43.59L10.3 9.45l-7.72 7.72c-.78.78-.78 2.05 0 2.83L4 21.41c.39.39.9.59 1.41.59.51 0 1.02-.2 1.41-.59l7.78-7.78 2.81-2.81c.8-.78.8-2.07 0-2.86zM5.41 20L4 18.59l7.72-7.72 1.47 1.35L5.41 20z\"/>\n",
              "  </svg>\n",
              "      </button>\n",
              "      \n",
              "  <style>\n",
              "    .colab-df-container {\n",
              "      display:flex;\n",
              "      flex-wrap:wrap;\n",
              "      gap: 12px;\n",
              "    }\n",
              "\n",
              "    .colab-df-convert {\n",
              "      background-color: #E8F0FE;\n",
              "      border: none;\n",
              "      border-radius: 50%;\n",
              "      cursor: pointer;\n",
              "      display: none;\n",
              "      fill: #1967D2;\n",
              "      height: 32px;\n",
              "      padding: 0 0 0 0;\n",
              "      width: 32px;\n",
              "    }\n",
              "\n",
              "    .colab-df-convert:hover {\n",
              "      background-color: #E2EBFA;\n",
              "      box-shadow: 0px 1px 2px rgba(60, 64, 67, 0.3), 0px 1px 3px 1px rgba(60, 64, 67, 0.15);\n",
              "      fill: #174EA6;\n",
              "    }\n",
              "\n",
              "    [theme=dark] .colab-df-convert {\n",
              "      background-color: #3B4455;\n",
              "      fill: #D2E3FC;\n",
              "    }\n",
              "\n",
              "    [theme=dark] .colab-df-convert:hover {\n",
              "      background-color: #434B5C;\n",
              "      box-shadow: 0px 1px 3px 1px rgba(0, 0, 0, 0.15);\n",
              "      filter: drop-shadow(0px 1px 2px rgba(0, 0, 0, 0.3));\n",
              "      fill: #FFFFFF;\n",
              "    }\n",
              "  </style>\n",
              "\n",
              "      <script>\n",
              "        const buttonEl =\n",
              "          document.querySelector('#df-98388766-c9ef-4413-9632-68bb4f64d745 button.colab-df-convert');\n",
              "        buttonEl.style.display =\n",
              "          google.colab.kernel.accessAllowed ? 'block' : 'none';\n",
              "\n",
              "        async function convertToInteractive(key) {\n",
              "          const element = document.querySelector('#df-98388766-c9ef-4413-9632-68bb4f64d745');\n",
              "          const dataTable =\n",
              "            await google.colab.kernel.invokeFunction('convertToInteractive',\n",
              "                                                     [key], {});\n",
              "          if (!dataTable) return;\n",
              "\n",
              "          const docLinkHtml = 'Like what you see? Visit the ' +\n",
              "            '<a target=\"_blank\" href=https://colab.research.google.com/notebooks/data_table.ipynb>data table notebook</a>'\n",
              "            + ' to learn more about interactive tables.';\n",
              "          element.innerHTML = '';\n",
              "          dataTable['output_type'] = 'display_data';\n",
              "          await google.colab.output.renderOutput(dataTable, element);\n",
              "          const docLink = document.createElement('div');\n",
              "          docLink.innerHTML = docLinkHtml;\n",
              "          element.appendChild(docLink);\n",
              "        }\n",
              "      </script>\n",
              "    </div>\n",
              "  </div>\n",
              "  "
            ]
          },
          "metadata": {},
          "execution_count": 5
        }
      ]
    },
    {
      "cell_type": "markdown",
      "source": [
        "1. Determine the Number of Tags Per Question\n"
      ],
      "metadata": {
        "id": "DAJD0wzJYZ19"
      }
    },
    {
      "cell_type": "code",
      "source": [
        "tag_short=data.values[:,9]\n",
        "tagshort2=list()\n",
        "tags=list()\n",
        "for i in range(20):\n",
        "  x=tag_short[i].split(\"<\")\n",
        "  s=\"\".join(x)\n",
        "  x= s.split(\">\")\n",
        "  x.pop()\n",
        "  tagshort2.append(x)\n",
        "  tags.append(len(x))\n",
        "  print(len(x))\n",
        "  print(x)"
      ],
      "metadata": {
        "colab": {
          "base_uri": "https://localhost:8080/"
        },
        "id": "-bsCr_o8McuX",
        "outputId": "5f107203-a68e-4638-8d04-f11393255533"
      },
      "execution_count": 6,
      "outputs": [
        {
          "output_type": "stream",
          "name": "stdout",
          "text": [
            "5\n",
            "['c#', 'floating-point', 'type-conversion', 'double', 'decimal']\n",
            "4\n",
            "['html', 'css', 'css3', 'internet-explorer-7']\n",
            "3\n",
            "['c#', '.net', 'datetime']\n",
            "5\n",
            "['c#', 'datetime', 'time', 'datediff', 'relative-time-span']\n",
            "5\n",
            "['javascript', 'html', 'browser', 'timezone', 'timezoneoffset']\n",
            "2\n",
            "['.net', 'math']\n",
            "4\n",
            "['mysql', 'database', 'binary-data', 'data-storage']\n",
            "3\n",
            "['mysql', 'database', 'triggers']\n",
            "4\n",
            "['sql', 'sql-server', 'datatable', 'rdbms']\n",
            "4\n",
            "['php', 'plugins', 'architecture', 'hook']\n",
            "4\n",
            "['html', 'form-submit', 'html-form', 'submit-button']\n",
            "3\n",
            "['c#', 'linq', '.net-3.5']\n",
            "5\n",
            "['linux', 'winapi', 'visual-c++', 'unix', 'timer']\n",
            "4\n",
            "['svn', 'tortoisesvn', 'branch', 'branching-and-merging']\n",
            "4\n",
            "['.net', 'performance', 'memory-leaks', 'com-interop']\n",
            "4\n",
            "['java', 'xml', 'csv', 'data-conversion']\n",
            "4\n",
            "['java', 'php', 'oop', 'theory']\n",
            "5\n",
            "['mysql', 'sql-server', 'csv', 'sql-server-2005', 'bcp']\n",
            "4\n",
            "['sql-server', 'database', 'svn', 'version-control']\n",
            "4\n",
            "['algorithm', 'language-agnostic', 'colors', 'color-space']\n"
          ]
        }
      ]
    },
    {
      "cell_type": "code",
      "source": [
        "\n",
        "# import necessary packages\n",
        "import matplotlib.pyplot as plt\n",
        "\n",
        "sns.countplot(tags, palette='gist_rainbow')\n",
        "plt.title(\"Number of tags in the questions \")\n",
        "plt.xlabel(\"Number of Tags\")\n",
        "plt.ylabel(\"Number of questions\")\n",
        "plt.show()"
      ],
      "metadata": {
        "colab": {
          "base_uri": "https://localhost:8080/",
          "height": 349
        },
        "id": "WZ1iosUWy5JM",
        "outputId": "ed62451b-0faf-4e41-b912-01aee14ddcc9"
      },
      "execution_count": 7,
      "outputs": [
        {
          "output_type": "stream",
          "name": "stderr",
          "text": [
            "/usr/local/lib/python3.7/dist-packages/seaborn/_decorators.py:43: FutureWarning: Pass the following variable as a keyword arg: x. From version 0.12, the only valid positional argument will be `data`, and passing other arguments without an explicit keyword will result in an error or misinterpretation.\n",
            "  FutureWarning\n"
          ]
        },
        {
          "output_type": "display_data",
          "data": {
            "text/plain": [
              "<Figure size 432x288 with 1 Axes>"
            ],
            "image/png": "[encoded data removed]"
          },
          "metadata": {
            "needs_background": "light"
          }
        }
      ]
    },
    {
      "cell_type": "markdown",
      "source": [
        "2. Determine the Total Number of Unique Tags"
      ],
      "metadata": {
        "id": "vI0pRDzrYhpD"
      }
    },
    {
      "cell_type": "code",
      "source": [
        "print(tags)\n",
        "print(tagshort2)"
      ],
      "metadata": {
        "colab": {
          "base_uri": "https://localhost:8080/"
        },
        "id": "MBZ_DTkVYukc",
        "outputId": "9a621b8d-9c85-4203-b2f4-bb295767d0fd"
      },
      "execution_count": 8,
      "outputs": [
        {
          "output_type": "stream",
          "name": "stdout",
          "text": [
            "[5, 4, 3, 5, 5, 2, 4, 3, 4, 4, 4, 3, 5, 4, 4, 4, 4, 5, 4, 4]\n",
            "[['c#', 'floating-point', 'type-conversion', 'double', 'decimal'], ['html', 'css', 'css3', 'internet-explorer-7'], ['c#', '.net', 'datetime'], ['c#', 'datetime', 'time', 'datediff', 'relative-time-span'], ['javascript', 'html', 'browser', 'timezone', 'timezoneoffset'], ['.net', 'math'], ['mysql', 'database', 'binary-data', 'data-storage'], ['mysql', 'database', 'triggers'], ['sql', 'sql-server', 'datatable', 'rdbms'], ['php', 'plugins', 'architecture', 'hook'], ['html', 'form-submit', 'html-form', 'submit-button'], ['c#', 'linq', '.net-3.5'], ['linux', 'winapi', 'visual-c++', 'unix', 'timer'], ['svn', 'tortoisesvn', 'branch', 'branching-and-merging'], ['.net', 'performance', 'memory-leaks', 'com-interop'], ['java', 'xml', 'csv', 'data-conversion'], ['java', 'php', 'oop', 'theory'], ['mysql', 'sql-server', 'csv', 'sql-server-2005', 'bcp'], ['sql-server', 'database', 'svn', 'version-control'], ['algorithm', 'language-agnostic', 'colors', 'color-space']]\n"
          ]
        }
      ]
    },
    {
      "cell_type": "code",
      "source": [
        "l = []\n",
        "\n",
        "for k in range(len(tagshort2)):\n",
        "  for i in tagshort2[k]:\n",
        "    l.append(i)"
      ],
      "metadata": {
        "id": "RNdRlozagcA2"
      },
      "execution_count": 9,
      "outputs": []
    },
    {
      "cell_type": "code",
      "source": [
        "# initializing the list\n",
        "random_list = l\n",
        "frequency = {}\n",
        "\n",
        "# iterating over the list\n",
        "for item in random_list:\n",
        "   # checking the element in dictionary\n",
        "   if item in frequency:\n",
        "      # incrementing the counr\n",
        "      frequency[item] += 1\n",
        "   else:\n",
        "      # initializing the count\n",
        "      frequency[item] = 1\n",
        "\n",
        "# printing the frequency\n",
        "print(frequency)"
      ],
      "metadata": {
        "colab": {
          "base_uri": "https://localhost:8080/"
        },
        "id": "bPlkF2tcNrY0",
        "outputId": "1d25c07b-cbe8-493c-86f8-14b553b04f44"
      },
      "execution_count": 10,
      "outputs": [
        {
          "output_type": "stream",
          "name": "stdout",
          "text": [
            "{'c#': 4, 'floating-point': 1, 'type-conversion': 1, 'double': 1, 'decimal': 1, 'html': 3, 'css': 1, 'css3': 1, 'internet-explorer-7': 1, '.net': 3, 'datetime': 2, 'time': 1, 'datediff': 1, 'relative-time-span': 1, 'javascript': 1, 'browser': 1, 'timezone': 1, 'timezoneoffset': 1, 'math': 1, 'mysql': 3, 'database': 3, 'binary-data': 1, 'data-storage': 1, 'triggers': 1, 'sql': 1, 'sql-server': 3, 'datatable': 1, 'rdbms': 1, 'php': 2, 'plugins': 1, 'architecture': 1, 'hook': 1, 'form-submit': 1, 'html-form': 1, 'submit-button': 1, 'linq': 1, '.net-3.5': 1, 'linux': 1, 'winapi': 1, 'visual-c++': 1, 'unix': 1, 'timer': 1, 'svn': 2, 'tortoisesvn': 1, 'branch': 1, 'branching-and-merging': 1, 'performance': 1, 'memory-leaks': 1, 'com-interop': 1, 'java': 2, 'xml': 1, 'csv': 2, 'data-conversion': 1, 'oop': 1, 'theory': 1, 'sql-server-2005': 1, 'bcp': 1, 'version-control': 1, 'algorithm': 1, 'language-agnostic': 1, 'colors': 1, 'color-space': 1}\n"
          ]
        }
      ]
    },
    {
      "cell_type": "code",
      "source": [
        "number_of_unique_tags = len(set(l))\n",
        "number_of_unique_tags"
      ],
      "metadata": {
        "colab": {
          "base_uri": "https://localhost:8080/"
        },
        "id": "_U3QqBD2w0UR",
        "outputId": "1359ed31-372f-4deb-c6d4-c7b8b690336d"
      },
      "execution_count": 11,
      "outputs": [
        {
          "output_type": "execute_result",
          "data": {
            "text/plain": [
              "62"
            ]
          },
          "metadata": {},
          "execution_count": 11
        }
      ]
    },
    {
      "cell_type": "code",
      "source": [
        "data = pd.DataFrame(l)\n",
        "data.plot(figsize=(12,8))"
      ],
      "metadata": {
        "id": "NHgpav67FAmK",
        "colab": {
          "base_uri": "https://localhost:8080/",
          "height": 500
        },
        "outputId": "04f73bdf-a955-42e3-df15-111daa31a24f"
      },
      "execution_count": null,
      "outputs": [
        {
          "output_type": "execute_result",
          "data": {
            "text/plain": [
              "<matplotlib.axes._subplots.AxesSubplot at 0x7f4656800e10>"
            ]
          },
          "metadata": {},
          "execution_count": 153
        },
        {
          "output_type": "display_data",
          "data": {
            "text/plain": [
              "<Figure size 864x576 with 1 Axes>"
            ],
            "image/png": "[encoded data removed]"
          },
          "metadata": {
            "needs_background": "light"
          }
        }
      ]
    },
    {
      "cell_type": "markdown",
      "source": [
        "Q 3 Determine the top-25 Tags appearing frequently"
      ],
      "metadata": {
        "id": "c4Zs5-GryVeB"
      }
    },
    {
      "cell_type": "code",
      "source": [
        "import collections\n",
        "k = collections.Counter(frequency)\n",
        "#k = Counter(frequency)\n",
        " \n",
        "# Finding 3 highest values\n",
        "high = k.most_common(25)\n",
        " \n",
        " \n",
        " \n",
        "print(\"top-25 Tags appearing frequently:\")\n",
        "print(\"Keys: Values\")\n",
        " \n",
        "for i in high:\n",
        "    print(i[0],\" :\",i[1],\" \")\n"
      ],
      "metadata": {
        "colab": {
          "base_uri": "https://localhost:8080/"
        },
        "id": "-kms-2AtyPwK",
        "outputId": "f6eddb5b-972f-4af7-e42f-d09e595acb73"
      },
      "execution_count": 16,
      "outputs": [
        {
          "output_type": "stream",
          "name": "stdout",
          "text": [
            "top-25 Tags appearing frequently:\n",
            "Keys: Values\n",
            "c#  : 4  \n",
            "html  : 3  \n",
            ".net  : 3  \n",
            "mysql  : 3  \n",
            "database  : 3  \n",
            "sql-server  : 3  \n",
            "datetime  : 2  \n",
            "php  : 2  \n",
            "svn  : 2  \n",
            "java  : 2  \n",
            "csv  : 2  \n",
            "floating-point  : 1  \n",
            "type-conversion  : 1  \n",
            "double  : 1  \n",
            "decimal  : 1  \n",
            "css  : 1  \n",
            "css3  : 1  \n",
            "internet-explorer-7  : 1  \n",
            "time  : 1  \n",
            "datediff  : 1  \n",
            "relative-time-span  : 1  \n",
            "javascript  : 1  \n",
            "browser  : 1  \n",
            "timezone  : 1  \n",
            "timezoneoffset  : 1  \n"
          ]
        }
      ]
    },
    {
      "cell_type": "code",
      "source": [
        "\n",
        "keys = frequency.keys()\n",
        "values = frequency.values()\n",
        "\n",
        "plt.bar(keys, values)\n",
        "plt.rcParams[\"figure.figsize\"] = (20, 5)\n",
        "plt.xlabel(\"words\")\n",
        "plt.ylabel(\"Frequency\")\n",
        "plt.show()"
      ],
      "metadata": {
        "colab": {
          "base_uri": "https://localhost:8080/",
          "height": 334
        },
        "id": "Q5IjWV9NQfg1",
        "outputId": "bae18857-7ba6-4be1-c1f1-53b267a91ae7"
      },
      "execution_count": 17,
      "outputs": [
        {
          "output_type": "display_data",
          "data": {
            "text/plain": [
              "<Figure size 1440x360 with 1 Axes>"
            ],
            "image/png": "[encoded data removed]"
          },
          "metadata": {
            "needs_background": "light"
          }
        }
      ]
    },
    {
      "cell_type": "markdown",
      "source": [
        "4. Determine the nature of the distribution of top-500 tags"
      ],
      "metadata": {
        "id": "r_METeVzTcSp"
      }
    },
    {
      "cell_type": "code",
      "source": [
        "data_short = pd.read_csv('/content/drive/MyDrive/Machine learning/LHC dataset/Arjun_Assignment_data/dataset/posts_short.csv')"
      ],
      "metadata": {
        "id": "428R7zjUf3wa",
        "colab": {
          "base_uri": "https://localhost:8080/"
        },
        "outputId": "3ec6263e-7037-4bd3-9af0-5e3cbf248b38"
      },
      "execution_count": 18,
      "outputs": [
        {
          "output_type": "stream",
          "name": "stderr",
          "text": [
            "/usr/local/lib/python3.7/dist-packages/IPython/core/interactiveshell.py:2882: DtypeWarning: Columns (13) have mixed types.Specify dtype option on import or set low_memory=False.\n",
            "  exec(code_obj, self.user_global_ns, self.user_ns)\n"
          ]
        }
      ]
    },
    {
      "cell_type": "code",
      "source": [
        "type(data_short)"
      ],
      "metadata": {
        "colab": {
          "base_uri": "https://localhost:8080/"
        },
        "id": "Q5o_PkC3gFRy",
        "outputId": "caeb3b5f-d579-43c3-bef9-e8a8f2a13de5"
      },
      "execution_count": 19,
      "outputs": [
        {
          "output_type": "execute_result",
          "data": {
            "text/plain": [
              "pandas.core.frame.DataFrame"
            ]
          },
          "metadata": {},
          "execution_count": 19
        }
      ]
    },
    {
      "cell_type": "code",
      "source": [
        "data_short.shape"
      ],
      "metadata": {
        "colab": {
          "base_uri": "https://localhost:8080/"
        },
        "id": "M75mIELUgI32",
        "outputId": "6cfd4ff0-65d6-4059-ab1f-a7a24d3112b6"
      },
      "execution_count": 20,
      "outputs": [
        {
          "output_type": "execute_result",
          "data": {
            "text/plain": [
              "(676204, 14)"
            ]
          },
          "metadata": {},
          "execution_count": 20
        }
      ]
    },
    {
      "cell_type": "code",
      "source": [
        "data_short.describe()"
      ],
      "metadata": {
        "colab": {
          "base_uri": "https://localhost:8080/",
          "height": 364
        },
        "id": "5_gOLo3agOwx",
        "outputId": "6c4ca3b6-971d-4b11-e0a9-2f2a28a75ef0"
      },
      "execution_count": 21,
      "outputs": [
        {
          "output_type": "execute_result",
          "data": {
            "text/plain": [
              "          Unnamed: 0            id  post_type_id  accepted_answer_id  \\\n",
              "count  676204.000000  6.762040e+05      676204.0        6.762040e+05   \n",
              "mean   338101.500000  2.584291e+07           1.0        1.166794e+07   \n",
              "std    195203.425051  1.586292e+07           0.0        1.531875e+07   \n",
              "min         0.000000  4.000000e+00           1.0       -9.990000e+02   \n",
              "25%    169050.750000  1.170959e+07           1.0       -9.990000e+02   \n",
              "50%    338101.500000  2.566376e+07           1.0        2.574750e+06   \n",
              "75%    507152.250000  3.999613e+07           1.0        2.095320e+07   \n",
              "max    676203.000000  5.213412e+07           1.0        5.213268e+07   \n",
              "\n",
              "       parent_id          score    view_count  owner_user_id   answer_count  \\\n",
              "count   676204.0  676204.000000  6.762040e+05   6.762040e+05  676204.000000   \n",
              "mean      -999.0      14.731906  1.549030e+04   2.891993e+06       2.415215   \n",
              "std          0.0      97.924320  7.056748e+04   2.703980e+06       3.403235   \n",
              "min       -999.0    -146.000000  3.000000e+00  -9.990000e+02       0.000000   \n",
              "25%       -999.0       0.000000  6.400000e+01   6.399082e+05       1.000000   \n",
              "50%       -999.0       1.000000  4.880000e+02   1.952811e+06       2.000000   \n",
              "75%       -999.0       5.000000  5.694000e+03   4.648680e+06       3.000000   \n",
              "max       -999.0   21775.000000  6.842435e+06   1.030524e+07     518.000000   \n",
              "\n",
              "       comment_count  favorite_count  \n",
              "count  676204.000000   676204.000000  \n",
              "mean        2.547613        5.042214  \n",
              "std         2.914937       44.758421  \n",
              "min         0.000000        0.000000  \n",
              "25%         0.000000        0.000000  \n",
              "50%         2.000000        0.000000  \n",
              "75%         4.000000        1.000000  \n",
              "max        70.000000     9977.000000  "
            ],
            "text/html": [
              "\n",
              "  <div id=\"df-f5a55ea1-e06d-4d8c-af68-ee3fa1b11dbb\">\n",
              "    <div class=\"colab-df-container\">\n",
              "      <div>\n",
              "<style scoped>\n",
              "    .dataframe tbody tr th:only-of-type {\n",
              "        vertical-align: middle;\n",
              "    }\n",
              "\n",
              "    .dataframe tbody tr th {\n",
              "        vertical-align: top;\n",
              "    }\n",
              "\n",
              "    .dataframe thead th {\n",
              "        text-align: right;\n",
              "    }\n",
              "</style>\n",
              "<table border=\"1\" class=\"dataframe\">\n",
              "  <thead>\n",
              "    <tr style=\"text-align: right;\">\n",
              "      <th></th>\n",
              "      <th>Unnamed: 0</th>\n",
              "      <th>id</th>\n",
              "      <th>post_type_id</th>\n",
              "      <th>accepted_answer_id</th>\n",
              "      <th>parent_id</th>\n",
              "      <th>score</th>\n",
              "      <th>view_count</th>\n",
              "      <th>owner_user_id</th>\n",
              "      <th>answer_count</th>\n",
              "      <th>comment_count</th>\n",
              "      <th>favorite_count</th>\n",
              "    </tr>\n",
              "  </thead>\n",
              "  <tbody>\n",
              "    <tr>\n",
              "      <th>count</th>\n",
              "      <td>676204.000000</td>\n",
              "      <td>6.762040e+05</td>\n",
              "      <td>676204.0</td>\n",
              "      <td>6.762040e+05</td>\n",
              "      <td>676204.0</td>\n",
              "      <td>676204.000000</td>\n",
              "      <td>6.762040e+05</td>\n",
              "      <td>6.762040e+05</td>\n",
              "      <td>676204.000000</td>\n",
              "      <td>676204.000000</td>\n",
              "      <td>676204.000000</td>\n",
              "    </tr>\n",
              "    <tr>\n",
              "      <th>mean</th>\n",
              "      <td>338101.500000</td>\n",
              "      <td>2.584291e+07</td>\n",
              "      <td>1.0</td>\n",
              "      <td>1.166794e+07</td>\n",
              "      <td>-999.0</td>\n",
              "      <td>14.731906</td>\n",
              "      <td>1.549030e+04</td>\n",
              "      <td>2.891993e+06</td>\n",
              "      <td>2.415215</td>\n",
              "      <td>2.547613</td>\n",
              "      <td>5.042214</td>\n",
              "    </tr>\n",
              "    <tr>\n",
              "      <th>std</th>\n",
              "      <td>195203.425051</td>\n",
              "      <td>1.586292e+07</td>\n",
              "      <td>0.0</td>\n",
              "      <td>1.531875e+07</td>\n",
              "      <td>0.0</td>\n",
              "      <td>97.924320</td>\n",
              "      <td>7.056748e+04</td>\n",
              "      <td>2.703980e+06</td>\n",
              "      <td>3.403235</td>\n",
              "      <td>2.914937</td>\n",
              "      <td>44.758421</td>\n",
              "    </tr>\n",
              "    <tr>\n",
              "      <th>min</th>\n",
              "      <td>0.000000</td>\n",
              "      <td>4.000000e+00</td>\n",
              "      <td>1.0</td>\n",
              "      <td>-9.990000e+02</td>\n",
              "      <td>-999.0</td>\n",
              "      <td>-146.000000</td>\n",
              "      <td>3.000000e+00</td>\n",
              "      <td>-9.990000e+02</td>\n",
              "      <td>0.000000</td>\n",
              "      <td>0.000000</td>\n",
              "      <td>0.000000</td>\n",
              "    </tr>\n",
              "    <tr>\n",
              "      <th>25%</th>\n",
              "      <td>169050.750000</td>\n",
              "      <td>1.170959e+07</td>\n",
              "      <td>1.0</td>\n",
              "      <td>-9.990000e+02</td>\n",
              "      <td>-999.0</td>\n",
              "      <td>0.000000</td>\n",
              "      <td>6.400000e+01</td>\n",
              "      <td>6.399082e+05</td>\n",
              "      <td>1.000000</td>\n",
              "      <td>0.000000</td>\n",
              "      <td>0.000000</td>\n",
              "    </tr>\n",
              "    <tr>\n",
              "      <th>50%</th>\n",
              "      <td>338101.500000</td>\n",
              "      <td>2.566376e+07</td>\n",
              "      <td>1.0</td>\n",
              "      <td>2.574750e+06</td>\n",
              "      <td>-999.0</td>\n",
              "      <td>1.000000</td>\n",
              "      <td>4.880000e+02</td>\n",
              "      <td>1.952811e+06</td>\n",
              "      <td>2.000000</td>\n",
              "      <td>2.000000</td>\n",
              "      <td>0.000000</td>\n",
              "    </tr>\n",
              "    <tr>\n",
              "      <th>75%</th>\n",
              "      <td>507152.250000</td>\n",
              "      <td>3.999613e+07</td>\n",
              "      <td>1.0</td>\n",
              "      <td>2.095320e+07</td>\n",
              "      <td>-999.0</td>\n",
              "      <td>5.000000</td>\n",
              "      <td>5.694000e+03</td>\n",
              "      <td>4.648680e+06</td>\n",
              "      <td>3.000000</td>\n",
              "      <td>4.000000</td>\n",
              "      <td>1.000000</td>\n",
              "    </tr>\n",
              "    <tr>\n",
              "      <th>max</th>\n",
              "      <td>676203.000000</td>\n",
              "      <td>5.213412e+07</td>\n",
              "      <td>1.0</td>\n",
              "      <td>5.213268e+07</td>\n",
              "      <td>-999.0</td>\n",
              "      <td>21775.000000</td>\n",
              "      <td>6.842435e+06</td>\n",
              "      <td>1.030524e+07</td>\n",
              "      <td>518.000000</td>\n",
              "      <td>70.000000</td>\n",
              "      <td>9977.000000</td>\n",
              "    </tr>\n",
              "  </tbody>\n",
              "</table>\n",
              "</div>\n",
              "      <button class=\"colab-df-convert\" onclick=\"convertToInteractive('df-f5a55ea1-e06d-4d8c-af68-ee3fa1b11dbb')\"\n",
              "              title=\"Convert this dataframe to an interactive table.\"\n",
              "              style=\"display:none;\">\n",
              "        \n",
              "  <svg xmlns=\"http://www.w3.org/2000/svg\" height=\"24px\"viewBox=\"0 0 24 24\"\n",
              "       width=\"24px\">\n",
              "    <path d=\"M0 0h24v24H0V0z\" fill=\"none\"/>\n",
              "    <path d=\"M18.56 5.44l.94 2.06.94-2.06 2.06-.94-2.06-.94-.94-2.06-.94 2.06-2.06.94zm-11 1L8.5 8.5l.94-2.06 2.06-.94-2.06-.94L8.5 2.5l-.94 2.06-2.06.94zm10 10l.94 2.06.94-2.06 2.06-.94-2.06-.94-.94-2.06-.94 2.06-2.06.94z\"/><path d=\"M17.41 7.96l-1.37-1.37c-.4-.4-.92-.59-1.43-.59-.52 0-1.04.2-1.43.59L10.3 9.45l-7.72 7.72c-.78.78-.78 2.05 0 2.83L4 21.41c.39.39.9.59 1.41.59.51 0 1.02-.2 1.41-.59l7.78-7.78 2.81-2.81c.8-.78.8-2.07 0-2.86zM5.41 20L4 18.59l7.72-7.72 1.47 1.35L5.41 20z\"/>\n",
              "  </svg>\n",
              "      </button>\n",
              "      \n",
              "  <style>\n",
              "    .colab-df-container {\n",
              "      display:flex;\n",
              "      flex-wrap:wrap;\n",
              "      gap: 12px;\n",
              "    }\n",
              "\n",
              "    .colab-df-convert {\n",
              "      background-color: #E8F0FE;\n",
              "      border: none;\n",
              "      border-radius: 50%;\n",
              "      cursor: pointer;\n",
              "      display: none;\n",
              "      fill: #1967D2;\n",
              "      height: 32px;\n",
              "      padding: 0 0 0 0;\n",
              "      width: 32px;\n",
              "    }\n",
              "\n",
              "    .colab-df-convert:hover {\n",
              "      background-color: #E2EBFA;\n",
              "      box-shadow: 0px 1px 2px rgba(60, 64, 67, 0.3), 0px 1px 3px 1px rgba(60, 64, 67, 0.15);\n",
              "      fill: #174EA6;\n",
              "    }\n",
              "\n",
              "    [theme=dark] .colab-df-convert {\n",
              "      background-color: #3B4455;\n",
              "      fill: #D2E3FC;\n",
              "    }\n",
              "\n",
              "    [theme=dark] .colab-df-convert:hover {\n",
              "      background-color: #434B5C;\n",
              "      box-shadow: 0px 1px 3px 1px rgba(0, 0, 0, 0.15);\n",
              "      filter: drop-shadow(0px 1px 2px rgba(0, 0, 0, 0.3));\n",
              "      fill: #FFFFFF;\n",
              "    }\n",
              "  </style>\n",
              "\n",
              "      <script>\n",
              "        const buttonEl =\n",
              "          document.querySelector('#df-f5a55ea1-e06d-4d8c-af68-ee3fa1b11dbb button.colab-df-convert');\n",
              "        buttonEl.style.display =\n",
              "          google.colab.kernel.accessAllowed ? 'block' : 'none';\n",
              "\n",
              "        async function convertToInteractive(key) {\n",
              "          const element = document.querySelector('#df-f5a55ea1-e06d-4d8c-af68-ee3fa1b11dbb');\n",
              "          const dataTable =\n",
              "            await google.colab.kernel.invokeFunction('convertToInteractive',\n",
              "                                                     [key], {});\n",
              "          if (!dataTable) return;\n",
              "\n",
              "          const docLinkHtml = 'Like what you see? Visit the ' +\n",
              "            '<a target=\"_blank\" href=https://colab.research.google.com/notebooks/data_table.ipynb>data table notebook</a>'\n",
              "            + ' to learn more about interactive tables.';\n",
              "          element.innerHTML = '';\n",
              "          dataTable['output_type'] = 'display_data';\n",
              "          await google.colab.output.renderOutput(dataTable, element);\n",
              "          const docLink = document.createElement('div');\n",
              "          docLink.innerHTML = docLinkHtml;\n",
              "          element.appendChild(docLink);\n",
              "        }\n",
              "      </script>\n",
              "    </div>\n",
              "  </div>\n",
              "  "
            ]
          },
          "metadata": {},
          "execution_count": 21
        }
      ]
    },
    {
      "cell_type": "code",
      "source": [
        "data_short= pd.DataFrame(data_short)\n",
        "col = list(data_short.columns.values)\n",
        "print(col)"
      ],
      "metadata": {
        "colab": {
          "base_uri": "https://localhost:8080/"
        },
        "id": "HvY-YTFwgMKl",
        "outputId": "1d16f6f3-1ab4-426d-aec4-5da5862af990"
      },
      "execution_count": 22,
      "outputs": [
        {
          "output_type": "stream",
          "name": "stdout",
          "text": [
            "['Unnamed: 0', 'id', 'post_type_id', 'accepted_answer_id', 'parent_id', 'creation_date', 'score', 'view_count', 'owner_user_id', 'tags', 'answer_count', 'comment_count', 'favorite_count', 'community_owned_date']\n"
          ]
        }
      ]
    },
    {
      "cell_type": "code",
      "source": [
        "from pandas._libs.algos import take_1d_int16_int64\n",
        "tar_count={}\n",
        "for i in data_short['tags']:\n",
        "  try:\n",
        "    mylist=i.split('>')\n",
        "  except:\n",
        "    continue\n",
        "  mylist.pop()\n",
        "  for j in mylist:\n",
        "    if j[1:] in tar_count:\n",
        "      tar_count[j[1:]] +=1\n",
        "    else:\n",
        "      tar_count[j[1:]]=1"
      ],
      "metadata": {
        "id": "_PTQ57Lpgd8P"
      },
      "execution_count": 23,
      "outputs": []
    },
    {
      "cell_type": "code",
      "source": [
        "print(tar_count)"
      ],
      "metadata": {
        "id": "lSdFEChSghhj"
      },
      "execution_count": null,
      "outputs": []
    },
    {
      "cell_type": "code",
      "source": [
        "sort_order = sorted(tar_count.items(), key= lambda x: x[1], reverse=True)\n",
        "print(sort_order)\n",
        "x=[i for i in range(1,501)]\n",
        "print(x)"
      ],
      "metadata": {
        "id": "pgngrL8ugj98"
      },
      "execution_count": null,
      "outputs": []
    },
    {
      "cell_type": "code",
      "source": [
        "top_500=dict()\n",
        "c=0\n",
        "for i,j in sort_order:\n",
        "  if c==500:\n",
        "    break\n",
        "  top_500[i]=j\n",
        "  c+=1\n",
        "print(top_500)\n",
        "print(len(top_500))"
      ],
      "metadata": {
        "id": "rdIBByxogoKs"
      },
      "execution_count": null,
      "outputs": []
    },
    {
      "cell_type": "code",
      "source": [
        "x=[i for i in range(1,501)]\n",
        "print(x)\n",
        "y= list()\n",
        "for i,j in top_500.items():\n",
        "  y.append(j)\n",
        "print(y)"
      ],
      "metadata": {
        "id": "3eviO8syg5WE"
      },
      "execution_count": null,
      "outputs": []
    },
    {
      "cell_type": "code",
      "source": [
        "plt.plot(x,y)\n",
        "plt.xlabel('Top 500 Tags')\n",
        "plt.ylabel('Frequency')\n",
        "plt.title(\"nature of the distribution of top-500 tags\")\n",
        "plt.show()"
      ],
      "metadata": {
        "colab": {
          "base_uri": "https://localhost:8080/",
          "height": 350
        },
        "id": "oD_gPPhAg_b5",
        "outputId": "615ce0b2-70c4-43d1-b3eb-0fa8dcc6ac4f"
      },
      "execution_count": 28,
      "outputs": [
        {
          "output_type": "display_data",
          "data": {
            "text/plain": [
              "<Figure size 1440x360 with 1 Axes>"
            ],
            "image/png": "[encoded data removed]"
          },
          "metadata": {
            "needs_background": "light"
          }
        }
      ]
    },
    {
      "cell_type": "markdown",
      "source": [
        "5. Determine the ratio of duplicate questions asked in each month"
      ],
      "metadata": {
        "id": "0TyvwkIhALpZ"
      }
    },
    {
      "cell_type": "code",
      "source": [
        "df_train= pd.read_csv('/content/drive/MyDrive/Machine learning/LHC dataset/Arjun_Assignment_data/dataset/postLinks.csv')"
      ],
      "metadata": {
        "id": "peR7AMnDBMEm"
      },
      "execution_count": 34,
      "outputs": []
    },
    {
      "cell_type": "code",
      "source": [
        "df_train"
      ],
      "metadata": {
        "colab": {
          "base_uri": "https://localhost:8080/",
          "height": 423
        },
        "id": "TLVJYT3rBeqQ",
        "outputId": "1248ba15-d670-4bea-9eea-7d3450155ba9"
      },
      "execution_count": 35,
      "outputs": [
        {
          "output_type": "execute_result",
          "data": {
            "text/plain": [
              "         Unnamed: 0          id            creation_date   post_id  \\\n",
              "0                 0          19  2010-04-26T02:59:48.130       109   \n",
              "1                 1          37  2010-04-26T02:59:48.600      1970   \n",
              "2                 2          42  2010-04-26T02:59:48.647      2154   \n",
              "3                 3          48  2010-04-26T02:59:48.740      2483   \n",
              "4                 4          52  2010-04-26T02:59:48.757      2572   \n",
              "...             ...         ...                      ...       ...   \n",
              "5292619     5292619  1624278139  2018-09-02T08:09:41.520  52133002   \n",
              "5292620     5292620  1624278147  2018-09-02T08:10:50.820  52134991   \n",
              "5292621     5292621  1624278315  2018-09-02T08:14:26.470  52135049   \n",
              "5292622     5292622  1624278337  2018-09-02T08:15:36.387  52135007   \n",
              "5292623     5292623  1624278449  2018-09-02T08:17:32.137  52135049   \n",
              "\n",
              "         related_post_id  link_type_id  \n",
              "0                  32412             1  \n",
              "1                 617600             1  \n",
              "2                2451138             1  \n",
              "3                 496096             1  \n",
              "4                 209329             1  \n",
              "...                  ...           ...  \n",
              "5292619         31486547             1  \n",
              "5292620          5500805             1  \n",
              "5292621         30461565             1  \n",
              "5292622          1761051             1  \n",
              "5292623          3127429             1  \n",
              "\n",
              "[5292624 rows x 6 columns]"
            ],
            "text/html": [
              "\n",
              "  <div id=\"df-e08ed389-fee3-49b6-a894-69d51d757d99\">\n",
              "    <div class=\"colab-df-container\">\n",
              "      <div>\n",
              "<style scoped>\n",
              "    .dataframe tbody tr th:only-of-type {\n",
              "        vertical-align: middle;\n",
              "    }\n",
              "\n",
              "    .dataframe tbody tr th {\n",
              "        vertical-align: top;\n",
              "    }\n",
              "\n",
              "    .dataframe thead th {\n",
              "        text-align: right;\n",
              "    }\n",
              "</style>\n",
              "<table border=\"1\" class=\"dataframe\">\n",
              "  <thead>\n",
              "    <tr style=\"text-align: right;\">\n",
              "      <th></th>\n",
              "      <th>Unnamed: 0</th>\n",
              "      <th>id</th>\n",
              "      <th>creation_date</th>\n",
              "      <th>post_id</th>\n",
              "      <th>related_post_id</th>\n",
              "      <th>link_type_id</th>\n",
              "    </tr>\n",
              "  </thead>\n",
              "  <tbody>\n",
              "    <tr>\n",
              "      <th>0</th>\n",
              "      <td>0</td>\n",
              "      <td>19</td>\n",
              "      <td>2010-04-26T02:59:48.130</td>\n",
              "      <td>109</td>\n",
              "      <td>32412</td>\n",
              "      <td>1</td>\n",
              "    </tr>\n",
              "    <tr>\n",
              "      <th>1</th>\n",
              "      <td>1</td>\n",
              "      <td>37</td>\n",
              "      <td>2010-04-26T02:59:48.600</td>\n",
              "      <td>1970</td>\n",
              "      <td>617600</td>\n",
              "      <td>1</td>\n",
              "    </tr>\n",
              "    <tr>\n",
              "      <th>2</th>\n",
              "      <td>2</td>\n",
              "      <td>42</td>\n",
              "      <td>2010-04-26T02:59:48.647</td>\n",
              "      <td>2154</td>\n",
              "      <td>2451138</td>\n",
              "      <td>1</td>\n",
              "    </tr>\n",
              "    <tr>\n",
              "      <th>3</th>\n",
              "      <td>3</td>\n",
              "      <td>48</td>\n",
              "      <td>2010-04-26T02:59:48.740</td>\n",
              "      <td>2483</td>\n",
              "      <td>496096</td>\n",
              "      <td>1</td>\n",
              "    </tr>\n",
              "    <tr>\n",
              "      <th>4</th>\n",
              "      <td>4</td>\n",
              "      <td>52</td>\n",
              "      <td>2010-04-26T02:59:48.757</td>\n",
              "      <td>2572</td>\n",
              "      <td>209329</td>\n",
              "      <td>1</td>\n",
              "    </tr>\n",
              "    <tr>\n",
              "      <th>...</th>\n",
              "      <td>...</td>\n",
              "      <td>...</td>\n",
              "      <td>...</td>\n",
              "      <td>...</td>\n",
              "      <td>...</td>\n",
              "      <td>...</td>\n",
              "    </tr>\n",
              "    <tr>\n",
              "      <th>5292619</th>\n",
              "      <td>5292619</td>\n",
              "      <td>1624278139</td>\n",
              "      <td>2018-09-02T08:09:41.520</td>\n",
              "      <td>52133002</td>\n",
              "      <td>31486547</td>\n",
              "      <td>1</td>\n",
              "    </tr>\n",
              "    <tr>\n",
              "      <th>5292620</th>\n",
              "      <td>5292620</td>\n",
              "      <td>1624278147</td>\n",
              "      <td>2018-09-02T08:10:50.820</td>\n",
              "      <td>52134991</td>\n",
              "      <td>5500805</td>\n",
              "      <td>1</td>\n",
              "    </tr>\n",
              "    <tr>\n",
              "      <th>5292621</th>\n",
              "      <td>5292621</td>\n",
              "      <td>1624278315</td>\n",
              "      <td>2018-09-02T08:14:26.470</td>\n",
              "      <td>52135049</td>\n",
              "      <td>30461565</td>\n",
              "      <td>1</td>\n",
              "    </tr>\n",
              "    <tr>\n",
              "      <th>5292622</th>\n",
              "      <td>5292622</td>\n",
              "      <td>1624278337</td>\n",
              "      <td>2018-09-02T08:15:36.387</td>\n",
              "      <td>52135007</td>\n",
              "      <td>1761051</td>\n",
              "      <td>1</td>\n",
              "    </tr>\n",
              "    <tr>\n",
              "      <th>5292623</th>\n",
              "      <td>5292623</td>\n",
              "      <td>1624278449</td>\n",
              "      <td>2018-09-02T08:17:32.137</td>\n",
              "      <td>52135049</td>\n",
              "      <td>3127429</td>\n",
              "      <td>1</td>\n",
              "    </tr>\n",
              "  </tbody>\n",
              "</table>\n",
              "<p>5292624 rows × 6 columns</p>\n",
              "</div>\n",
              "      <button class=\"colab-df-convert\" onclick=\"convertToInteractive('df-e08ed389-fee3-49b6-a894-69d51d757d99')\"\n",
              "              title=\"Convert this dataframe to an interactive table.\"\n",
              "              style=\"display:none;\">\n",
              "        \n",
              "  <svg xmlns=\"http://www.w3.org/2000/svg\" height=\"24px\"viewBox=\"0 0 24 24\"\n",
              "       width=\"24px\">\n",
              "    <path d=\"M0 0h24v24H0V0z\" fill=\"none\"/>\n",
              "    <path d=\"M18.56 5.44l.94 2.06.94-2.06 2.06-.94-2.06-.94-.94-2.06-.94 2.06-2.06.94zm-11 1L8.5 8.5l.94-2.06 2.06-.94-2.06-.94L8.5 2.5l-.94 2.06-2.06.94zm10 10l.94 2.06.94-2.06 2.06-.94-2.06-.94-.94-2.06-.94 2.06-2.06.94z\"/><path d=\"M17.41 7.96l-1.37-1.37c-.4-.4-.92-.59-1.43-.59-.52 0-1.04.2-1.43.59L10.3 9.45l-7.72 7.72c-.78.78-.78 2.05 0 2.83L4 21.41c.39.39.9.59 1.41.59.51 0 1.02-.2 1.41-.59l7.78-7.78 2.81-2.81c.8-.78.8-2.07 0-2.86zM5.41 20L4 18.59l7.72-7.72 1.47 1.35L5.41 20z\"/>\n",
              "  </svg>\n",
              "      </button>\n",
              "      \n",
              "  <style>\n",
              "    .colab-df-container {\n",
              "      display:flex;\n",
              "      flex-wrap:wrap;\n",
              "      gap: 12px;\n",
              "    }\n",
              "\n",
              "    .colab-df-convert {\n",
              "      background-color: #E8F0FE;\n",
              "      border: none;\n",
              "      border-radius: 50%;\n",
              "      cursor: pointer;\n",
              "      display: none;\n",
              "      fill: #1967D2;\n",
              "      height: 32px;\n",
              "      padding: 0 0 0 0;\n",
              "      width: 32px;\n",
              "    }\n",
              "\n",
              "    .colab-df-convert:hover {\n",
              "      background-color: #E2EBFA;\n",
              "      box-shadow: 0px 1px 2px rgba(60, 64, 67, 0.3), 0px 1px 3px 1px rgba(60, 64, 67, 0.15);\n",
              "      fill: #174EA6;\n",
              "    }\n",
              "\n",
              "    [theme=dark] .colab-df-convert {\n",
              "      background-color: #3B4455;\n",
              "      fill: #D2E3FC;\n",
              "    }\n",
              "\n",
              "    [theme=dark] .colab-df-convert:hover {\n",
              "      background-color: #434B5C;\n",
              "      box-shadow: 0px 1px 3px 1px rgba(0, 0, 0, 0.15);\n",
              "      filter: drop-shadow(0px 1px 2px rgba(0, 0, 0, 0.3));\n",
              "      fill: #FFFFFF;\n",
              "    }\n",
              "  </style>\n",
              "\n",
              "      <script>\n",
              "        const buttonEl =\n",
              "          document.querySelector('#df-e08ed389-fee3-49b6-a894-69d51d757d99 button.colab-df-convert');\n",
              "        buttonEl.style.display =\n",
              "          google.colab.kernel.accessAllowed ? 'block' : 'none';\n",
              "\n",
              "        async function convertToInteractive(key) {\n",
              "          const element = document.querySelector('#df-e08ed389-fee3-49b6-a894-69d51d757d99');\n",
              "          const dataTable =\n",
              "            await google.colab.kernel.invokeFunction('convertToInteractive',\n",
              "                                                     [key], {});\n",
              "          if (!dataTable) return;\n",
              "\n",
              "          const docLinkHtml = 'Like what you see? Visit the ' +\n",
              "            '<a target=\"_blank\" href=https://colab.research.google.com/notebooks/data_table.ipynb>data table notebook</a>'\n",
              "            + ' to learn more about interactive tables.';\n",
              "          element.innerHTML = '';\n",
              "          dataTable['output_type'] = 'display_data';\n",
              "          await google.colab.output.renderOutput(dataTable, element);\n",
              "          const docLink = document.createElement('div');\n",
              "          docLink.innerHTML = docLinkHtml;\n",
              "          element.appendChild(docLink);\n",
              "        }\n",
              "      </script>\n",
              "    </div>\n",
              "  </div>\n",
              "  "
            ]
          },
          "metadata": {},
          "execution_count": 35
        }
      ]
    },
    {
      "cell_type": "code",
      "source": [
        "df_train['new']=df_train[\"creation_date\"].str.split(\"-\").str.get(0)+\"-\"+df_train[\"creation_date\"].str.split(\"-\").str.get(1)\n",
        "z = df_train['new'].value_counts()\n",
        "z"
      ],
      "metadata": {
        "colab": {
          "base_uri": "https://localhost:8080/"
        },
        "id": "dPaNcAD98IjI",
        "outputId": "ae59282d-53a5-4472-acd5-eb1525acb63e"
      },
      "execution_count": 37,
      "outputs": [
        {
          "output_type": "execute_result",
          "data": {
            "text/plain": [
              "2013-02    111122\n",
              "2017-03     81405\n",
              "2018-03     80077\n",
              "2017-08     78681\n",
              "2016-03     77796\n",
              "            ...  \n",
              "2010-09     12160\n",
              "2010-11     11271\n",
              "2010-06      9970\n",
              "2010-05      9694\n",
              "2018-09      1616\n",
              "Name: new, Length: 102, dtype: int64"
            ]
          },
          "metadata": {},
          "execution_count": 37
        }
      ]
    },
    {
      "cell_type": "code",
      "source": [
        "plt.figure(figsize=(25, 15))\n",
        "z.plot.barh()"
      ],
      "metadata": {
        "colab": {
          "base_uri": "https://localhost:8080/",
          "height": 774
        },
        "id": "qLMA1bc_Ai7b",
        "outputId": "81972d44-4248-4570-b403-42ab8503e566"
      },
      "execution_count": 38,
      "outputs": [
        {
          "output_type": "execute_result",
          "data": {
            "text/plain": [
              "<matplotlib.axes._subplots.AxesSubplot at 0x7fc7d377d2d0>"
            ]
          },
          "metadata": {},
          "execution_count": 38
        },
        {
          "output_type": "display_data",
          "data": {
            "text/plain": [
              "<Figure size 1800x1080 with 1 Axes>"
            ],
            "image/png": "[encoded data removed]"
          },
          "metadata": {
            "needs_background": "light"
          }
        }
      ]
    },
    {
      "cell_type": "code",
      "source": [
        "df_train['link_type_id'] = df_train['link_type_id'].astype('int')"
      ],
      "metadata": {
        "id": "8mAEkSul93M7"
      },
      "execution_count": 39,
      "outputs": []
    },
    {
      "cell_type": "code",
      "source": [
        "date = df_train['creation_date']\n",
        "#print(dates)\n",
        "date_format = [pd.to_datetime(d) for d in date]\n",
        "print(date_format)\n",
        "df_train['date'] = date"
      ],
      "metadata": {
        "colab": {
          "base_uri": "https://localhost:8080/"
        },
        "id": "TTRIQSsJAVns",
        "outputId": "5387cc0b-f16a-463d-8ac0-84242188ee94"
      },
      "execution_count": 143,
      "outputs": [
        {
          "output_type": "stream",
          "name": "stderr",
          "text": [
            "IOPub data rate exceeded.\n",
            "The notebook server will temporarily stop sending output\n",
            "to the client in order to avoid crashing it.\n",
            "To change this limit, set the config variable\n",
            "`--NotebookApp.iopub_data_rate_limit`.\n",
            "\n",
            "Current values:\n",
            "NotebookApp.iopub_data_rate_limit=1000000.0 (bytes/sec)\n",
            "NotebookApp.rate_limit_window=3.0 (secs)\n",
            "\n"
          ]
        }
      ]
    },
    {
      "cell_type": "code",
      "source": [
        "date_time = [date_format[d].strftime(\"%m-%Y\") for d in range(len(df_train))]\n",
        "df_train['date_time'] = date_time\n",
        "df_train[\"date_time\"] = df_train[\"date_time\"].astype('string')"
      ],
      "metadata": {
        "id": "8-iSuTzOAppu"
      },
      "execution_count": 144,
      "outputs": []
    },
    {
      "cell_type": "code",
      "source": [
        "l = []\n",
        "for k in range(len(df_train)):\n",
        "  if(df_train['link_type_id'][k] == 3):\n",
        "    l.append(df_train['date_time'][k])"
      ],
      "metadata": {
        "id": "mdt0-EC0_odE"
      },
      "execution_count": 145,
      "outputs": []
    },
    {
      "cell_type": "code",
      "source": [
        "from collections import Counter\n",
        "input_value = l\n",
        "c = Counter( input_value )\n",
        "\n",
        "print( c.items() )"
      ],
      "metadata": {
        "colab": {
          "base_uri": "https://localhost:8080/"
        },
        "id": "Wol3t5BqBMgN",
        "outputId": "ad0d6431-17e8-43cd-b4b2-906afc202775"
      },
      "execution_count": 146,
      "outputs": [
        {
          "output_type": "stream",
          "name": "stdout",
          "text": [
            "dict_items([('02-2013', 75344), ('03-2013', 5579), ('04-2013', 4895), ('05-2013', 4620), ('06-2013', 4434), ('07-2013', 4424), ('08-2013', 4402), ('09-2013', 3467), ('10-2013', 3533), ('11-2013', 3170), ('12-2013', 4651), ('01-2014', 4101), ('02-2014', 5519), ('03-2014', 10816), ('04-2014', 6365), ('05-2014', 9403), ('06-2014', 7586), ('07-2014', 7348), ('08-2014', 6287), ('09-2014', 6688), ('10-2014', 6461), ('11-2014', 5490), ('12-2014', 6264), ('01-2015', 6305), ('02-2015', 5485), ('03-2015', 6643), ('04-2015', 7741), ('05-2015', 7996), ('06-2015', 7928), ('07-2015', 7677), ('08-2015', 7964), ('09-2015', 8306), ('10-2015', 8805), ('11-2015', 9064), ('12-2015', 9700), ('01-2016', 9350), ('02-2016', 9846), ('03-2016', 10477), ('04-2016', 11112), ('05-2016', 10860), ('06-2016', 11502), ('07-2016', 10314), ('08-2016', 10482), ('09-2016', 10492), ('10-2016', 11095), ('11-2016', 10895), ('12-2016', 10034), ('01-2017', 11170), ('02-2017', 10790), ('03-2017', 12666), ('04-2017', 11470), ('05-2017', 11601), ('06-2017', 12079), ('07-2017', 12540), ('08-2017', 13441), ('09-2017', 12946), ('10-2017', 14116), ('11-2017', 15055), ('12-2017', 12511), ('01-2018', 14569), ('02-2018', 13868), ('03-2018', 15366), ('04-2018', 14017), ('05-2018', 13830), ('06-2018', 12378), ('07-2018', 13401), ('08-2018', 13301), ('09-2018', 294)])\n"
          ]
        }
      ]
    },
    {
      "cell_type": "code",
      "source": [
        "di = dict(c)\n",
        "#mylist=tags\n",
        "x = [i for i in range(len(di))]\n",
        "print(x)"
      ],
      "metadata": {
        "colab": {
          "base_uri": "https://localhost:8080/"
        },
        "id": "gjW_RQzfBOdw",
        "outputId": "768acda0-36ff-4c72-a8a6-5f2412dcd679"
      },
      "execution_count": 147,
      "outputs": [
        {
          "output_type": "stream",
          "name": "stdout",
          "text": [
            "[0, 1, 2, 3, 4, 5, 6, 7, 8, 9, 10, 11, 12, 13, 14, 15, 16, 17, 18, 19, 20, 21, 22, 23, 24, 25, 26, 27, 28, 29, 30, 31, 32, 33, 34, 35, 36, 37, 38, 39, 40, 41, 42, 43, 44, 45, 46, 47, 48, 49, 50, 51, 52, 53, 54, 55, 56, 57, 58, 59, 60, 61, 62, 63, 64, 65, 66, 67]\n"
          ]
        }
      ]
    },
    {
      "cell_type": "code",
      "source": [
        "y = list()\n",
        "for i,j in di.items():\n",
        "  y.append(j)\n",
        "print(y)"
      ],
      "metadata": {
        "colab": {
          "base_uri": "https://localhost:8080/"
        },
        "id": "OKJoisUfBUU3",
        "outputId": "a4ed4ea5-7fd4-4567-d837-a4c4a4689fcd"
      },
      "execution_count": 148,
      "outputs": [
        {
          "output_type": "stream",
          "name": "stdout",
          "text": [
            "[75344, 5579, 4895, 4620, 4434, 4424, 4402, 3467, 3533, 3170, 4651, 4101, 5519, 10816, 6365, 9403, 7586, 7348, 6287, 6688, 6461, 5490, 6264, 6305, 5485, 6643, 7741, 7996, 7928, 7677, 7964, 8306, 8805, 9064, 9700, 9350, 9846, 10477, 11112, 10860, 11502, 10314, 10482, 10492, 11095, 10895, 10034, 11170, 10790, 12666, 11470, 11601, 12079, 12540, 13441, 12946, 14116, 15055, 12511, 14569, 13868, 15366, 14017, 13830, 12378, 13401, 13301, 294]\n"
          ]
        }
      ]
    },
    {
      "cell_type": "code",
      "source": [
        "lables_of_tags = list()\n",
        "for i,j in di.items():\n",
        "  lables_of_tags.append(i)\n",
        "print(lables_of_tags) "
      ],
      "metadata": {
        "colab": {
          "base_uri": "https://localhost:8080/"
        },
        "id": "5CXfNL6aBWNh",
        "outputId": "d7492590-a60d-4bcc-b63b-2c07b30b5e98"
      },
      "execution_count": 149,
      "outputs": [
        {
          "output_type": "stream",
          "name": "stdout",
          "text": [
            "['02-2013', '03-2013', '04-2013', '05-2013', '06-2013', '07-2013', '08-2013', '09-2013', '10-2013', '11-2013', '12-2013', '01-2014', '02-2014', '03-2014', '04-2014', '05-2014', '06-2014', '07-2014', '08-2014', '09-2014', '10-2014', '11-2014', '12-2014', '01-2015', '02-2015', '03-2015', '04-2015', '05-2015', '06-2015', '07-2015', '08-2015', '09-2015', '10-2015', '11-2015', '12-2015', '01-2016', '02-2016', '03-2016', '04-2016', '05-2016', '06-2016', '07-2016', '08-2016', '09-2016', '10-2016', '11-2016', '12-2016', '01-2017', '02-2017', '03-2017', '04-2017', '05-2017', '06-2017', '07-2017', '08-2017', '09-2017', '10-2017', '11-2017', '12-2017', '01-2018', '02-2018', '03-2018', '04-2018', '05-2018', '06-2018', '07-2018', '08-2018', '09-2018']\n"
          ]
        }
      ]
    },
    {
      "cell_type": "code",
      "source": [
        "plt.figure(figsize=(25, 7))\n",
        "plt.plot(x,y)\n",
        "plt.xlabel(\"Months\")\n",
        "plt.ylabel(\"Occurence\")\n",
        "plt.title(\"Month wise Distribution of Duplication\")\n",
        "\n",
        "plt.xticks(x, lables_of_tags, rotation ='vertical')\n",
        "\n",
        "plt.show()"
      ],
      "metadata": {
        "colab": {
          "base_uri": "https://localhost:8080/",
          "height": 430
        },
        "id": "F2LUTAZYBYXX",
        "outputId": "14a7d607-3017-4748-d075-e2c42076c167"
      },
      "execution_count": 150,
      "outputs": [
        {
          "output_type": "display_data",
          "data": {
            "text/plain": [
              "<Figure size 1800x504 with 1 Axes>"
            ],
            "image/png": "[encoded data removed]"
          },
          "metadata": {
            "needs_background": "light"
          }
        }
      ]
    },
    {
      "cell_type": "code",
      "source": [
        "n1 = y[0]\n",
        "n2 = y[1]\n",
        "ratio = dict()\n",
        "def ratioFunction(n1, n2):\n",
        "    int(n1) # this does nothing because you don't capture it\n",
        "    int(n2) # also this\n",
        "    ratio12 = int(n1/n2)\n",
        "    return ratio12\n",
        "\n",
        "ratioFunction(n1, n2)"
      ],
      "metadata": {
        "colab": {
          "base_uri": "https://localhost:8080/"
        },
        "id": "o5CbXj9VBskT",
        "outputId": "da461e23-fd39-40eb-a550-b76702d3ce74"
      },
      "execution_count": 151,
      "outputs": [
        {
          "output_type": "execute_result",
          "data": {
            "text/plain": [
              "13"
            ]
          },
          "metadata": {},
          "execution_count": 151
        }
      ]
    },
    {
      "cell_type": "code",
      "source": [
        "ratios= []\n",
        "for i in range(len(y)-1):\n",
        "  n1 = y[i]\n",
        "  n2 = y[i+1]\n",
        "  a = ratioFunction(n1,n2)\n",
        "  ratios.append(a)\n",
        "print(ratios)"
      ],
      "metadata": {
        "colab": {
          "base_uri": "https://localhost:8080/"
        },
        "id": "UoF8M7ZUBvgI",
        "outputId": "0425f66b-1115-41d9-8e12-8ac742ce7f91"
      },
      "execution_count": 152,
      "outputs": [
        {
          "output_type": "stream",
          "name": "stdout",
          "text": [
            "[13, 1, 1, 1, 1, 1, 1, 0, 1, 0, 1, 0, 0, 1, 0, 1, 1, 1, 0, 1, 1, 0, 0, 1, 0, 0, 0, 1, 1, 0, 0, 0, 0, 0, 1, 0, 0, 0, 1, 0, 1, 0, 0, 0, 1, 1, 0, 1, 0, 1, 0, 0, 0, 0, 1, 0, 0, 1, 0, 1, 0, 1, 1, 1, 0, 1, 45]\n"
          ]
        }
      ]
    },
    {
      "cell_type": "code",
      "source": [
        "x = [i for i in range(len(di)-1)]\n",
        "print(x)"
      ],
      "metadata": {
        "colab": {
          "base_uri": "https://localhost:8080/"
        },
        "id": "APWX0e5yBxrQ",
        "outputId": "97bf3521-6a81-4bd7-e059-7f3a5dd69c5b"
      },
      "execution_count": 156,
      "outputs": [
        {
          "output_type": "stream",
          "name": "stdout",
          "text": [
            "[0, 1, 2, 3, 4, 5, 6, 7, 8, 9, 10, 11, 12, 13, 14, 15, 16, 17, 18, 19, 20, 21, 22, 23, 24, 25, 26, 27, 28, 29, 30, 31, 32, 33, 34, 35, 36, 37, 38, 39, 40, 41, 42, 43, 44, 45, 46, 47, 48, 49, 50, 51, 52, 53, 54, 55, 56, 57, 58, 59, 60, 61, 62, 63, 64, 65, 66]\n"
          ]
        }
      ]
    },
    {
      "cell_type": "code",
      "source": [
        "plt.figure(figsize=(25, 7))\n",
        "plt.plot(x,ratios)\n",
        "plt.xlabel(\"Months\")\n",
        "plt.ylabel(\"Ratio\")\n",
        "plt.title(\"Ratio of Duplicate question - month wise\")\n",
        "\n",
        "plt.xticks(x, lables_of_tags, rotation ='vertical')\n",
        "\n",
        "plt.show()"
      ],
      "metadata": {
        "colab": {
          "base_uri": "https://localhost:8080/",
          "height": 435
        },
        "id": "gOxcv9WeB0Sj",
        "outputId": "9abdb117-dbac-4d3e-9b38-a8a8e920eab4"
      },
      "execution_count": 158,
      "outputs": [
        {
          "output_type": "display_data",
          "data": {
            "text/plain": [
              "<Figure size 1800x504 with 1 Axes>"
            ],
            "image/png": "[encoded data removed]"
          },
          "metadata": {
            "needs_background": "light"
          }
        }
      ]
    },
    {
      "cell_type": "markdown",
      "source": [
        "Determine the percentage of duplicate questions associated with different tags\n",
        "Each Stack Overflow question has some tags associated with it which is an\n",
        "identification of the topic of the question content. For each tag in your dataset,\n",
        "determine the number of duplicate questions associated with the tag over the total\n",
        "number of questions (calculate the percentage). Determine the top-20 tags based on\n",
        "the previously calculated numbers and then show the percentage in a bar chart."
      ],
      "metadata": {
        "id": "praFHrJr9dhz"
      }
    },
    {
      "cell_type": "code",
      "source": [
        "data_long= pd.read_csv('/content/drive/MyDrive/Machine learning/LHC dataset/Arjun_Assignment_data/dataset/posts_long.csv')"
      ],
      "metadata": {
        "colab": {
          "base_uri": "https://localhost:8080/"
        },
        "id": "NqytcuJqCInB",
        "outputId": "c18a1d8d-a9c9-4724-a730-adf476564b02"
      },
      "execution_count": 160,
      "outputs": [
        {
          "output_type": "stream",
          "name": "stderr",
          "text": [
            "/usr/local/lib/python3.7/dist-packages/IPython/core/interactiveshell.py:2882: DtypeWarning: Columns (13) have mixed types.Specify dtype option on import or set low_memory=False.\n",
            "  exec(code_obj, self.user_global_ns, self.user_ns)\n"
          ]
        }
      ]
    },
    {
      "cell_type": "code",
      "source": [
        "date = data_long['creation_date']\n",
        "#print(dates)\n",
        "date_format = [pd.to_datetime(di) for di in date]\n",
        "print(date_format)"
      ],
      "metadata": {
        "id": "ft0lKUnNAron",
        "colab": {
          "base_uri": "https://localhost:8080/"
        },
        "outputId": "243a791e-55d3-4523-c004-99b311204145"
      },
      "execution_count": 162,
      "outputs": [
        {
          "output_type": "stream",
          "name": "stderr",
          "text": [
            "IOPub data rate exceeded.\n",
            "The notebook server will temporarily stop sending output\n",
            "to the client in order to avoid crashing it.\n",
            "To change this limit, set the config variable\n",
            "`--NotebookApp.iopub_data_rate_limit`.\n",
            "\n",
            "Current values:\n",
            "NotebookApp.iopub_data_rate_limit=1000000.0 (bytes/sec)\n",
            "NotebookApp.rate_limit_window=3.0 (secs)\n",
            "\n"
          ]
        }
      ]
    },
    {
      "cell_type": "code",
      "source": [
        "date_time = [date_format[di].strftime(\"%m-%Y\") for di in range(len(data_long))]"
      ],
      "metadata": {
        "id": "S3cBdreuCfql"
      },
      "execution_count": 164,
      "outputs": []
    },
    {
      "cell_type": "code",
      "source": [
        "data_long['date_time'] = date_time"
      ],
      "metadata": {
        "id": "DTzmiyRRCgbk"
      },
      "execution_count": 165,
      "outputs": []
    },
    {
      "cell_type": "code",
      "source": [
        "dataf4 = pd.DataFrame()\n",
        "dataf5 = pd.DataFrame()"
      ],
      "metadata": {
        "id": "EEw7Dau5CyhY"
      },
      "execution_count": 166,
      "outputs": []
    },
    {
      "cell_type": "code",
      "source": [
        "dataf4['id'] = pd.DataFrame(df_train['post_id'])"
      ],
      "metadata": {
        "id": "3-tzUJxOC0et"
      },
      "execution_count": 167,
      "outputs": []
    },
    {
      "cell_type": "code",
      "source": [
        "dataf4['link_type_id'] = df_train['link_type_id']"
      ],
      "metadata": {
        "id": "m_esPW_cC234"
      },
      "execution_count": 168,
      "outputs": []
    },
    {
      "cell_type": "code",
      "source": [
        "dataf5= pd.DataFrame(data_long['id'])\n",
        "dataf5['tags'] = data_long['tags']"
      ],
      "metadata": {
        "id": "Dx3C2tZvEg6G"
      },
      "execution_count": 169,
      "outputs": []
    },
    {
      "cell_type": "code",
      "source": [
        "dataf6 = pd.merge(dataf4,dataf5,on=\"id\")\n",
        "dataf6"
      ],
      "metadata": {
        "colab": {
          "base_uri": "https://localhost:8080/",
          "height": 423
        },
        "id": "HxkskJdpEp_E",
        "outputId": "15ca8e42-a809-471d-d176-f93355e8d984"
      },
      "execution_count": 170,
      "outputs": [
        {
          "output_type": "execute_result",
          "data": {
            "text/plain": [
              "               id  link_type_id                                      tags\n",
              "0            2483             1                                <c#><.net>\n",
              "1            2483             3                                <c#><.net>\n",
              "2            3859             1                         <version-control>\n",
              "3            3859             1                         <version-control>\n",
              "4            6173             1                       <.net><html><regex>\n",
              "...           ...           ...                                       ...\n",
              "1076089  52133674             3          <java><firebase><android-studio>\n",
              "1076090  52132801             1                             <ansible><f5>\n",
              "1076091  52132801             3                             <ansible><f5>\n",
              "1076092  52011078             1  <c#><httpwebrequest><webbrowser-control>\n",
              "1076093  52011078             3  <c#><httpwebrequest><webbrowser-control>\n",
              "\n",
              "[1076094 rows x 3 columns]"
            ],
            "text/html": [
              "\n",
              "  <div id=\"df-9ed016f8-521f-4bc3-9113-579217847ace\">\n",
              "    <div class=\"colab-df-container\">\n",
              "      <div>\n",
              "<style scoped>\n",
              "    .dataframe tbody tr th:only-of-type {\n",
              "        vertical-align: middle;\n",
              "    }\n",
              "\n",
              "    .dataframe tbody tr th {\n",
              "        vertical-align: top;\n",
              "    }\n",
              "\n",
              "    .dataframe thead th {\n",
              "        text-align: right;\n",
              "    }\n",
              "</style>\n",
              "<table border=\"1\" class=\"dataframe\">\n",
              "  <thead>\n",
              "    <tr style=\"text-align: right;\">\n",
              "      <th></th>\n",
              "      <th>id</th>\n",
              "      <th>link_type_id</th>\n",
              "      <th>tags</th>\n",
              "    </tr>\n",
              "  </thead>\n",
              "  <tbody>\n",
              "    <tr>\n",
              "      <th>0</th>\n",
              "      <td>2483</td>\n",
              "      <td>1</td>\n",
              "      <td>&lt;c#&gt;&lt;.net&gt;</td>\n",
              "    </tr>\n",
              "    <tr>\n",
              "      <th>1</th>\n",
              "      <td>2483</td>\n",
              "      <td>3</td>\n",
              "      <td>&lt;c#&gt;&lt;.net&gt;</td>\n",
              "    </tr>\n",
              "    <tr>\n",
              "      <th>2</th>\n",
              "      <td>3859</td>\n",
              "      <td>1</td>\n",
              "      <td>&lt;version-control&gt;</td>\n",
              "    </tr>\n",
              "    <tr>\n",
              "      <th>3</th>\n",
              "      <td>3859</td>\n",
              "      <td>1</td>\n",
              "      <td>&lt;version-control&gt;</td>\n",
              "    </tr>\n",
              "    <tr>\n",
              "      <th>4</th>\n",
              "      <td>6173</td>\n",
              "      <td>1</td>\n",
              "      <td>&lt;.net&gt;&lt;html&gt;&lt;regex&gt;</td>\n",
              "    </tr>\n",
              "    <tr>\n",
              "      <th>...</th>\n",
              "      <td>...</td>\n",
              "      <td>...</td>\n",
              "      <td>...</td>\n",
              "    </tr>\n",
              "    <tr>\n",
              "      <th>1076089</th>\n",
              "      <td>52133674</td>\n",
              "      <td>3</td>\n",
              "      <td>&lt;java&gt;&lt;firebase&gt;&lt;android-studio&gt;</td>\n",
              "    </tr>\n",
              "    <tr>\n",
              "      <th>1076090</th>\n",
              "      <td>52132801</td>\n",
              "      <td>1</td>\n",
              "      <td>&lt;ansible&gt;&lt;f5&gt;</td>\n",
              "    </tr>\n",
              "    <tr>\n",
              "      <th>1076091</th>\n",
              "      <td>52132801</td>\n",
              "      <td>3</td>\n",
              "      <td>&lt;ansible&gt;&lt;f5&gt;</td>\n",
              "    </tr>\n",
              "    <tr>\n",
              "      <th>1076092</th>\n",
              "      <td>52011078</td>\n",
              "      <td>1</td>\n",
              "      <td>&lt;c#&gt;&lt;httpwebrequest&gt;&lt;webbrowser-control&gt;</td>\n",
              "    </tr>\n",
              "    <tr>\n",
              "      <th>1076093</th>\n",
              "      <td>52011078</td>\n",
              "      <td>3</td>\n",
              "      <td>&lt;c#&gt;&lt;httpwebrequest&gt;&lt;webbrowser-control&gt;</td>\n",
              "    </tr>\n",
              "  </tbody>\n",
              "</table>\n",
              "<p>1076094 rows × 3 columns</p>\n",
              "</div>\n",
              "      <button class=\"colab-df-convert\" onclick=\"convertToInteractive('df-9ed016f8-521f-4bc3-9113-579217847ace')\"\n",
              "              title=\"Convert this dataframe to an interactive table.\"\n",
              "              style=\"display:none;\">\n",
              "        \n",
              "  <svg xmlns=\"http://www.w3.org/2000/svg\" height=\"24px\"viewBox=\"0 0 24 24\"\n",
              "       width=\"24px\">\n",
              "    <path d=\"M0 0h24v24H0V0z\" fill=\"none\"/>\n",
              "    <path d=\"M18.56 5.44l.94 2.06.94-2.06 2.06-.94-2.06-.94-.94-2.06-.94 2.06-2.06.94zm-11 1L8.5 8.5l.94-2.06 2.06-.94-2.06-.94L8.5 2.5l-.94 2.06-2.06.94zm10 10l.94 2.06.94-2.06 2.06-.94-2.06-.94-.94-2.06-.94 2.06-2.06.94z\"/><path d=\"M17.41 7.96l-1.37-1.37c-.4-.4-.92-.59-1.43-.59-.52 0-1.04.2-1.43.59L10.3 9.45l-7.72 7.72c-.78.78-.78 2.05 0 2.83L4 21.41c.39.39.9.59 1.41.59.51 0 1.02-.2 1.41-.59l7.78-7.78 2.81-2.81c.8-.78.8-2.07 0-2.86zM5.41 20L4 18.59l7.72-7.72 1.47 1.35L5.41 20z\"/>\n",
              "  </svg>\n",
              "      </button>\n",
              "      \n",
              "  <style>\n",
              "    .colab-df-container {\n",
              "      display:flex;\n",
              "      flex-wrap:wrap;\n",
              "      gap: 12px;\n",
              "    }\n",
              "\n",
              "    .colab-df-convert {\n",
              "      background-color: #E8F0FE;\n",
              "      border: none;\n",
              "      border-radius: 50%;\n",
              "      cursor: pointer;\n",
              "      display: none;\n",
              "      fill: #1967D2;\n",
              "      height: 32px;\n",
              "      padding: 0 0 0 0;\n",
              "      width: 32px;\n",
              "    }\n",
              "\n",
              "    .colab-df-convert:hover {\n",
              "      background-color: #E2EBFA;\n",
              "      box-shadow: 0px 1px 2px rgba(60, 64, 67, 0.3), 0px 1px 3px 1px rgba(60, 64, 67, 0.15);\n",
              "      fill: #174EA6;\n",
              "    }\n",
              "\n",
              "    [theme=dark] .colab-df-convert {\n",
              "      background-color: #3B4455;\n",
              "      fill: #D2E3FC;\n",
              "    }\n",
              "\n",
              "    [theme=dark] .colab-df-convert:hover {\n",
              "      background-color: #434B5C;\n",
              "      box-shadow: 0px 1px 3px 1px rgba(0, 0, 0, 0.15);\n",
              "      filter: drop-shadow(0px 1px 2px rgba(0, 0, 0, 0.3));\n",
              "      fill: #FFFFFF;\n",
              "    }\n",
              "  </style>\n",
              "\n",
              "      <script>\n",
              "        const buttonEl =\n",
              "          document.querySelector('#df-9ed016f8-521f-4bc3-9113-579217847ace button.colab-df-convert');\n",
              "        buttonEl.style.display =\n",
              "          google.colab.kernel.accessAllowed ? 'block' : 'none';\n",
              "\n",
              "        async function convertToInteractive(key) {\n",
              "          const element = document.querySelector('#df-9ed016f8-521f-4bc3-9113-579217847ace');\n",
              "          const dataTable =\n",
              "            await google.colab.kernel.invokeFunction('convertToInteractive',\n",
              "                                                     [key], {});\n",
              "          if (!dataTable) return;\n",
              "\n",
              "          const docLinkHtml = 'Like what you see? Visit the ' +\n",
              "            '<a target=\"_blank\" href=https://colab.research.google.com/notebooks/data_table.ipynb>data table notebook</a>'\n",
              "            + ' to learn more about interactive tables.';\n",
              "          element.innerHTML = '';\n",
              "          dataTable['output_type'] = 'display_data';\n",
              "          await google.colab.output.renderOutput(dataTable, element);\n",
              "          const docLink = document.createElement('div');\n",
              "          docLink.innerHTML = docLinkHtml;\n",
              "          element.appendChild(docLink);\n",
              "        }\n",
              "      </script>\n",
              "    </div>\n",
              "  </div>\n",
              "  "
            ]
          },
          "metadata": {},
          "execution_count": 170
        }
      ]
    },
    {
      "cell_type": "code",
      "source": [
        "j = []\n",
        "for i in dataf5['tags']:\n",
        "  j.append(i.split(\">\"))\n",
        "  #j.append(x)"
      ],
      "metadata": {
        "id": "xrD79SXLEt8e"
      },
      "execution_count": 171,
      "outputs": []
    },
    {
      "cell_type": "code",
      "source": [
        "tags = []\n",
        "\n",
        "for k in range(len(dataf5)):\n",
        "\tfor i in j[k]:\n",
        "  \t\ttags.append(i)"
      ],
      "metadata": {
        "id": "7-SeR2DbExjO"
      },
      "execution_count": 172,
      "outputs": []
    },
    {
      "cell_type": "code",
      "source": [
        "[x for x in tags if x]"
      ],
      "metadata": {
        "id": "zWX4swH1EzOp"
      },
      "execution_count": null,
      "outputs": []
    },
    {
      "cell_type": "code",
      "source": [
        "unique_tags = []\n",
        "for x in tags:\n",
        "    if x not in unique_tags:\n",
        "        unique_tags.append(x)\n",
        "print(unique_tags)"
      ],
      "metadata": {
        "id": "IGkHIEKDE2le"
      },
      "execution_count": null,
      "outputs": []
    },
    {
      "cell_type": "code",
      "source": [
        "from collections import Counter\n",
        "input_value = tags\n",
        "c1 = Counter( input_value )\n",
        "\n",
        "print( c1.items() )"
      ],
      "metadata": {
        "id": "zPir5jrKE59z"
      },
      "execution_count": null,
      "outputs": []
    },
    {
      "cell_type": "code",
      "source": [
        "d1 = dict(c1)\n",
        "d1.pop(\"\")"
      ],
      "metadata": {
        "colab": {
          "base_uri": "https://localhost:8080/"
        },
        "id": "U-dyH3v3FCWY",
        "outputId": "35317b6d-777f-4755-ed7e-40e80c5a2748"
      },
      "execution_count": 176,
      "outputs": [
        {
          "output_type": "execute_result",
          "data": {
            "text/plain": [
              "676204"
            ]
          },
          "metadata": {},
          "execution_count": 176
        }
      ]
    },
    {
      "cell_type": "code",
      "source": [
        "l = []\n",
        "for k in range(len(dataf6)):\n",
        "  if(df_train['link_type_id'][k] == 3):\n",
        "    l.append(dataf6['tags'][k])"
      ],
      "metadata": {
        "id": "7CekwaFOFF0U"
      },
      "execution_count": 177,
      "outputs": []
    },
    {
      "cell_type": "code",
      "source": [
        "j1 = []\n",
        "for i in l:\n",
        "  j1.append(i.split(\">\"))\n",
        "  #j.append(x)"
      ],
      "metadata": {
        "id": "L5knhdyOFJfX"
      },
      "execution_count": 178,
      "outputs": []
    },
    {
      "cell_type": "code",
      "source": [
        "tags1 = []\n",
        "\n",
        "for k in range(len(j1)):\n",
        "\tfor i in j1[k]:\n",
        "  \t\ttags1.append(i)"
      ],
      "metadata": {
        "id": "F6qqw6eUFn8o"
      },
      "execution_count": 179,
      "outputs": []
    },
    {
      "cell_type": "code",
      "source": [
        "[x for x in tags1 if x]"
      ],
      "metadata": {
        "id": "abk97j4NFvFO"
      },
      "execution_count": null,
      "outputs": []
    },
    {
      "cell_type": "code",
      "source": [
        "\n",
        "from collections import Counter\n",
        "input_value = tags1\n",
        "c = Counter( input_value )\n",
        "\n",
        "print( c.items() )"
      ],
      "metadata": {
        "id": "eMP8pxnqFxbg"
      },
      "execution_count": null,
      "outputs": []
    },
    {
      "cell_type": "code",
      "source": [
        "d = dict(c)\n",
        "d.pop(\"\")"
      ],
      "metadata": {
        "colab": {
          "base_uri": "https://localhost:8080/"
        },
        "id": "61xX1uvpGkd8",
        "outputId": "4099f134-5ca4-4978-c246-4d3f2bd1f8e7"
      },
      "execution_count": 182,
      "outputs": [
        {
          "output_type": "execute_result",
          "data": {
            "text/plain": [
              "87874"
            ]
          },
          "metadata": {},
          "execution_count": 182
        }
      ]
    },
    {
      "cell_type": "code",
      "source": [
        "duplicate = pd.DataFrame([d])\n",
        "real_values = pd.DataFrame([d1])"
      ],
      "metadata": {
        "id": "W-8GGxfUG72z"
      },
      "execution_count": 188,
      "outputs": []
    },
    {
      "cell_type": "code",
      "source": [
        "duplicate"
      ],
      "metadata": {
        "colab": {
          "base_uri": "https://localhost:8080/",
          "height": 209
        },
        "id": "63IfZWb9G_-4",
        "outputId": "d9b193ab-188c-44fb-9b13-39478a592b4b"
      },
      "execution_count": 189,
      "outputs": [
        {
          "output_type": "execute_result",
          "data": {
            "text/plain": [
              "   <python  <java  <swing  <javascript  <momentjs  <bookmarklet  <bash  \\\n",
              "0    11681  12305     427        11903         45             2   1628   \n",
              "\n",
              "   <ubuntu  <bash-on-windows  <multithreading  ...  <end-to-end  \\\n",
              "0      155                 2              597  ...            1   \n",
              "\n",
              "   <output-clause  <prestodb  <qubole  <amazon-elastic-beanstalk  <xregexp  \\\n",
              "0               1          2        2                          1         2   \n",
              "\n",
              "   <prometheus-net  <dos  <supplier  <stringstream  \n",
              "0                1     2          1              1  \n",
              "\n",
              "[1 rows x 8357 columns]"
            ],
            "text/html": [
              "\n",
              "  <div id=\"df-027f2c9e-b2ee-4272-a573-082680a26c45\">\n",
              "    <div class=\"colab-df-container\">\n",
              "      <div>\n",
              "<style scoped>\n",
              "    .dataframe tbody tr th:only-of-type {\n",
              "        vertical-align: middle;\n",
              "    }\n",
              "\n",
              "    .dataframe tbody tr th {\n",
              "        vertical-align: top;\n",
              "    }\n",
              "\n",
              "    .dataframe thead th {\n",
              "        text-align: right;\n",
              "    }\n",
              "</style>\n",
              "<table border=\"1\" class=\"dataframe\">\n",
              "  <thead>\n",
              "    <tr style=\"text-align: right;\">\n",
              "      <th></th>\n",
              "      <th>&lt;python</th>\n",
              "      <th>&lt;java</th>\n",
              "      <th>&lt;swing</th>\n",
              "      <th>&lt;javascript</th>\n",
              "      <th>&lt;momentjs</th>\n",
              "      <th>&lt;bookmarklet</th>\n",
              "      <th>&lt;bash</th>\n",
              "      <th>&lt;ubuntu</th>\n",
              "      <th>&lt;bash-on-windows</th>\n",
              "      <th>&lt;multithreading</th>\n",
              "      <th>...</th>\n",
              "      <th>&lt;end-to-end</th>\n",
              "      <th>&lt;output-clause</th>\n",
              "      <th>&lt;prestodb</th>\n",
              "      <th>&lt;qubole</th>\n",
              "      <th>&lt;amazon-elastic-beanstalk</th>\n",
              "      <th>&lt;xregexp</th>\n",
              "      <th>&lt;prometheus-net</th>\n",
              "      <th>&lt;dos</th>\n",
              "      <th>&lt;supplier</th>\n",
              "      <th>&lt;stringstream</th>\n",
              "    </tr>\n",
              "  </thead>\n",
              "  <tbody>\n",
              "    <tr>\n",
              "      <th>0</th>\n",
              "      <td>11681</td>\n",
              "      <td>12305</td>\n",
              "      <td>427</td>\n",
              "      <td>11903</td>\n",
              "      <td>45</td>\n",
              "      <td>2</td>\n",
              "      <td>1628</td>\n",
              "      <td>155</td>\n",
              "      <td>2</td>\n",
              "      <td>597</td>\n",
              "      <td>...</td>\n",
              "      <td>1</td>\n",
              "      <td>1</td>\n",
              "      <td>2</td>\n",
              "      <td>2</td>\n",
              "      <td>1</td>\n",
              "      <td>2</td>\n",
              "      <td>1</td>\n",
              "      <td>2</td>\n",
              "      <td>1</td>\n",
              "      <td>1</td>\n",
              "    </tr>\n",
              "  </tbody>\n",
              "</table>\n",
              "<p>1 rows × 8357 columns</p>\n",
              "</div>\n",
              "      <button class=\"colab-df-convert\" onclick=\"convertToInteractive('df-027f2c9e-b2ee-4272-a573-082680a26c45')\"\n",
              "              title=\"Convert this dataframe to an interactive table.\"\n",
              "              style=\"display:none;\">\n",
              "        \n",
              "  <svg xmlns=\"http://www.w3.org/2000/svg\" height=\"24px\"viewBox=\"0 0 24 24\"\n",
              "       width=\"24px\">\n",
              "    <path d=\"M0 0h24v24H0V0z\" fill=\"none\"/>\n",
              "    <path d=\"M18.56 5.44l.94 2.06.94-2.06 2.06-.94-2.06-.94-.94-2.06-.94 2.06-2.06.94zm-11 1L8.5 8.5l.94-2.06 2.06-.94-2.06-.94L8.5 2.5l-.94 2.06-2.06.94zm10 10l.94 2.06.94-2.06 2.06-.94-2.06-.94-.94-2.06-.94 2.06-2.06.94z\"/><path d=\"M17.41 7.96l-1.37-1.37c-.4-.4-.92-.59-1.43-.59-.52 0-1.04.2-1.43.59L10.3 9.45l-7.72 7.72c-.78.78-.78 2.05 0 2.83L4 21.41c.39.39.9.59 1.41.59.51 0 1.02-.2 1.41-.59l7.78-7.78 2.81-2.81c.8-.78.8-2.07 0-2.86zM5.41 20L4 18.59l7.72-7.72 1.47 1.35L5.41 20z\"/>\n",
              "  </svg>\n",
              "      </button>\n",
              "      \n",
              "  <style>\n",
              "    .colab-df-container {\n",
              "      display:flex;\n",
              "      flex-wrap:wrap;\n",
              "      gap: 12px;\n",
              "    }\n",
              "\n",
              "    .colab-df-convert {\n",
              "      background-color: #E8F0FE;\n",
              "      border: none;\n",
              "      border-radius: 50%;\n",
              "      cursor: pointer;\n",
              "      display: none;\n",
              "      fill: #1967D2;\n",
              "      height: 32px;\n",
              "      padding: 0 0 0 0;\n",
              "      width: 32px;\n",
              "    }\n",
              "\n",
              "    .colab-df-convert:hover {\n",
              "      background-color: #E2EBFA;\n",
              "      box-shadow: 0px 1px 2px rgba(60, 64, 67, 0.3), 0px 1px 3px 1px rgba(60, 64, 67, 0.15);\n",
              "      fill: #174EA6;\n",
              "    }\n",
              "\n",
              "    [theme=dark] .colab-df-convert {\n",
              "      background-color: #3B4455;\n",
              "      fill: #D2E3FC;\n",
              "    }\n",
              "\n",
              "    [theme=dark] .colab-df-convert:hover {\n",
              "      background-color: #434B5C;\n",
              "      box-shadow: 0px 1px 3px 1px rgba(0, 0, 0, 0.15);\n",
              "      filter: drop-shadow(0px 1px 2px rgba(0, 0, 0, 0.3));\n",
              "      fill: #FFFFFF;\n",
              "    }\n",
              "  </style>\n",
              "\n",
              "      <script>\n",
              "        const buttonEl =\n",
              "          document.querySelector('#df-027f2c9e-b2ee-4272-a573-082680a26c45 button.colab-df-convert');\n",
              "        buttonEl.style.display =\n",
              "          google.colab.kernel.accessAllowed ? 'block' : 'none';\n",
              "\n",
              "        async function convertToInteractive(key) {\n",
              "          const element = document.querySelector('#df-027f2c9e-b2ee-4272-a573-082680a26c45');\n",
              "          const dataTable =\n",
              "            await google.colab.kernel.invokeFunction('convertToInteractive',\n",
              "                                                     [key], {});\n",
              "          if (!dataTable) return;\n",
              "\n",
              "          const docLinkHtml = 'Like what you see? Visit the ' +\n",
              "            '<a target=\"_blank\" href=https://colab.research.google.com/notebooks/data_table.ipynb>data table notebook</a>'\n",
              "            + ' to learn more about interactive tables.';\n",
              "          element.innerHTML = '';\n",
              "          dataTable['output_type'] = 'display_data';\n",
              "          await google.colab.output.renderOutput(dataTable, element);\n",
              "          const docLink = document.createElement('div');\n",
              "          docLink.innerHTML = docLinkHtml;\n",
              "          element.appendChild(docLink);\n",
              "        }\n",
              "      </script>\n",
              "    </div>\n",
              "  </div>\n",
              "  "
            ]
          },
          "metadata": {},
          "execution_count": 189
        }
      ]
    },
    {
      "cell_type": "code",
      "source": [
        "real_values"
      ],
      "metadata": {
        "colab": {
          "base_uri": "https://localhost:8080/",
          "height": 209
        },
        "id": "DNcnhy9wHDyi",
        "outputId": "e0fc3d09-1473-4c3d-ba4d-0f91d375ede2"
      },
      "execution_count": 190,
      "outputs": [
        {
          "output_type": "execute_result",
          "data": {
            "text/plain": [
              "     <c#  <floating-point  <type-conversion  <double  <decimal  <html   <css  \\\n",
              "0  61899             1628               759      924       577  33736  23161   \n",
              "\n",
              "   <css3  <internet-explorer-7  <.net  ...  <3d-printing  <read-the-docs  \\\n",
              "0   4629                    92  14290  ...             1               1   \n",
              "\n",
              "   <ant-media-server  <bucket-sort  <mirc  <codeanywhere  <iis-express-10  \\\n",
              "0                  1             1      1              1                1   \n",
              "\n",
              "   <prometheus-net  <supplier  <f5  \n",
              "0                1          1    1  \n",
              "\n",
              "[1 rows x 25310 columns]"
            ],
            "text/html": [
              "\n",
              "  <div id=\"df-3601b77a-7365-481c-a7ff-716bf894e193\">\n",
              "    <div class=\"colab-df-container\">\n",
              "      <div>\n",
              "<style scoped>\n",
              "    .dataframe tbody tr th:only-of-type {\n",
              "        vertical-align: middle;\n",
              "    }\n",
              "\n",
              "    .dataframe tbody tr th {\n",
              "        vertical-align: top;\n",
              "    }\n",
              "\n",
              "    .dataframe thead th {\n",
              "        text-align: right;\n",
              "    }\n",
              "</style>\n",
              "<table border=\"1\" class=\"dataframe\">\n",
              "  <thead>\n",
              "    <tr style=\"text-align: right;\">\n",
              "      <th></th>\n",
              "      <th>&lt;c#</th>\n",
              "      <th>&lt;floating-point</th>\n",
              "      <th>&lt;type-conversion</th>\n",
              "      <th>&lt;double</th>\n",
              "      <th>&lt;decimal</th>\n",
              "      <th>&lt;html</th>\n",
              "      <th>&lt;css</th>\n",
              "      <th>&lt;css3</th>\n",
              "      <th>&lt;internet-explorer-7</th>\n",
              "      <th>&lt;.net</th>\n",
              "      <th>...</th>\n",
              "      <th>&lt;3d-printing</th>\n",
              "      <th>&lt;read-the-docs</th>\n",
              "      <th>&lt;ant-media-server</th>\n",
              "      <th>&lt;bucket-sort</th>\n",
              "      <th>&lt;mirc</th>\n",
              "      <th>&lt;codeanywhere</th>\n",
              "      <th>&lt;iis-express-10</th>\n",
              "      <th>&lt;prometheus-net</th>\n",
              "      <th>&lt;supplier</th>\n",
              "      <th>&lt;f5</th>\n",
              "    </tr>\n",
              "  </thead>\n",
              "  <tbody>\n",
              "    <tr>\n",
              "      <th>0</th>\n",
              "      <td>61899</td>\n",
              "      <td>1628</td>\n",
              "      <td>759</td>\n",
              "      <td>924</td>\n",
              "      <td>577</td>\n",
              "      <td>33736</td>\n",
              "      <td>23161</td>\n",
              "      <td>4629</td>\n",
              "      <td>92</td>\n",
              "      <td>14290</td>\n",
              "      <td>...</td>\n",
              "      <td>1</td>\n",
              "      <td>1</td>\n",
              "      <td>1</td>\n",
              "      <td>1</td>\n",
              "      <td>1</td>\n",
              "      <td>1</td>\n",
              "      <td>1</td>\n",
              "      <td>1</td>\n",
              "      <td>1</td>\n",
              "      <td>1</td>\n",
              "    </tr>\n",
              "  </tbody>\n",
              "</table>\n",
              "<p>1 rows × 25310 columns</p>\n",
              "</div>\n",
              "      <button class=\"colab-df-convert\" onclick=\"convertToInteractive('df-3601b77a-7365-481c-a7ff-716bf894e193')\"\n",
              "              title=\"Convert this dataframe to an interactive table.\"\n",
              "              style=\"display:none;\">\n",
              "        \n",
              "  <svg xmlns=\"http://www.w3.org/2000/svg\" height=\"24px\"viewBox=\"0 0 24 24\"\n",
              "       width=\"24px\">\n",
              "    <path d=\"M0 0h24v24H0V0z\" fill=\"none\"/>\n",
              "    <path d=\"M18.56 5.44l.94 2.06.94-2.06 2.06-.94-2.06-.94-.94-2.06-.94 2.06-2.06.94zm-11 1L8.5 8.5l.94-2.06 2.06-.94-2.06-.94L8.5 2.5l-.94 2.06-2.06.94zm10 10l.94 2.06.94-2.06 2.06-.94-2.06-.94-.94-2.06-.94 2.06-2.06.94z\"/><path d=\"M17.41 7.96l-1.37-1.37c-.4-.4-.92-.59-1.43-.59-.52 0-1.04.2-1.43.59L10.3 9.45l-7.72 7.72c-.78.78-.78 2.05 0 2.83L4 21.41c.39.39.9.59 1.41.59.51 0 1.02-.2 1.41-.59l7.78-7.78 2.81-2.81c.8-.78.8-2.07 0-2.86zM5.41 20L4 18.59l7.72-7.72 1.47 1.35L5.41 20z\"/>\n",
              "  </svg>\n",
              "      </button>\n",
              "      \n",
              "  <style>\n",
              "    .colab-df-container {\n",
              "      display:flex;\n",
              "      flex-wrap:wrap;\n",
              "      gap: 12px;\n",
              "    }\n",
              "\n",
              "    .colab-df-convert {\n",
              "      background-color: #E8F0FE;\n",
              "      border: none;\n",
              "      border-radius: 50%;\n",
              "      cursor: pointer;\n",
              "      display: none;\n",
              "      fill: #1967D2;\n",
              "      height: 32px;\n",
              "      padding: 0 0 0 0;\n",
              "      width: 32px;\n",
              "    }\n",
              "\n",
              "    .colab-df-convert:hover {\n",
              "      background-color: #E2EBFA;\n",
              "      box-shadow: 0px 1px 2px rgba(60, 64, 67, 0.3), 0px 1px 3px 1px rgba(60, 64, 67, 0.15);\n",
              "      fill: #174EA6;\n",
              "    }\n",
              "\n",
              "    [theme=dark] .colab-df-convert {\n",
              "      background-color: #3B4455;\n",
              "      fill: #D2E3FC;\n",
              "    }\n",
              "\n",
              "    [theme=dark] .colab-df-convert:hover {\n",
              "      background-color: #434B5C;\n",
              "      box-shadow: 0px 1px 3px 1px rgba(0, 0, 0, 0.15);\n",
              "      filter: drop-shadow(0px 1px 2px rgba(0, 0, 0, 0.3));\n",
              "      fill: #FFFFFF;\n",
              "    }\n",
              "  </style>\n",
              "\n",
              "      <script>\n",
              "        const buttonEl =\n",
              "          document.querySelector('#df-3601b77a-7365-481c-a7ff-716bf894e193 button.colab-df-convert');\n",
              "        buttonEl.style.display =\n",
              "          google.colab.kernel.accessAllowed ? 'block' : 'none';\n",
              "\n",
              "        async function convertToInteractive(key) {\n",
              "          const element = document.querySelector('#df-3601b77a-7365-481c-a7ff-716bf894e193');\n",
              "          const dataTable =\n",
              "            await google.colab.kernel.invokeFunction('convertToInteractive',\n",
              "                                                     [key], {});\n",
              "          if (!dataTable) return;\n",
              "\n",
              "          const docLinkHtml = 'Like what you see? Visit the ' +\n",
              "            '<a target=\"_blank\" href=https://colab.research.google.com/notebooks/data_table.ipynb>data table notebook</a>'\n",
              "            + ' to learn more about interactive tables.';\n",
              "          element.innerHTML = '';\n",
              "          dataTable['output_type'] = 'display_data';\n",
              "          await google.colab.output.renderOutput(dataTable, element);\n",
              "          const docLink = document.createElement('div');\n",
              "          docLink.innerHTML = docLinkHtml;\n",
              "          element.appendChild(docLink);\n",
              "        }\n",
              "      </script>\n",
              "    </div>\n",
              "  </div>\n",
              "  "
            ]
          },
          "metadata": {},
          "execution_count": 190
        }
      ]
    },
    {
      "cell_type": "code",
      "source": [
        "real_values = real_values.melt( \n",
        "        var_name=\"Tags\", \n",
        "        value_name=\"Value\")\n"
      ],
      "metadata": {
        "id": "CMFonqGhHGAU"
      },
      "execution_count": 191,
      "outputs": []
    },
    {
      "cell_type": "code",
      "source": [
        "duplicate = duplicate.melt( \n",
        "        var_name=\"Tags\", \n",
        "        value_name=\"Value\")"
      ],
      "metadata": {
        "id": "oZyuNgolHH-B"
      },
      "execution_count": 192,
      "outputs": []
    },
    {
      "cell_type": "code",
      "source": [
        "real_values"
      ],
      "metadata": {
        "colab": {
          "base_uri": "https://localhost:8080/",
          "height": 423
        },
        "id": "3U152lp_HJds",
        "outputId": "97b7f7ef-e76f-4ef2-b877-7be74b2ab989"
      },
      "execution_count": 193,
      "outputs": [
        {
          "output_type": "execute_result",
          "data": {
            "text/plain": [
              "                   Tags  Value\n",
              "0                   <c#  61899\n",
              "1       <floating-point   1628\n",
              "2      <type-conversion    759\n",
              "3               <double    924\n",
              "4              <decimal    577\n",
              "...                 ...    ...\n",
              "25305     <codeanywhere      1\n",
              "25306   <iis-express-10      1\n",
              "25307   <prometheus-net      1\n",
              "25308         <supplier      1\n",
              "25309               <f5      1\n",
              "\n",
              "[25310 rows x 2 columns]"
            ],
            "text/html": [
              "\n",
              "  <div id=\"df-2460bb16-52c9-4086-9dc5-2e3372d2b9dd\">\n",
              "    <div class=\"colab-df-container\">\n",
              "      <div>\n",
              "<style scoped>\n",
              "    .dataframe tbody tr th:only-of-type {\n",
              "        vertical-align: middle;\n",
              "    }\n",
              "\n",
              "    .dataframe tbody tr th {\n",
              "        vertical-align: top;\n",
              "    }\n",
              "\n",
              "    .dataframe thead th {\n",
              "        text-align: right;\n",
              "    }\n",
              "</style>\n",
              "<table border=\"1\" class=\"dataframe\">\n",
              "  <thead>\n",
              "    <tr style=\"text-align: right;\">\n",
              "      <th></th>\n",
              "      <th>Tags</th>\n",
              "      <th>Value</th>\n",
              "    </tr>\n",
              "  </thead>\n",
              "  <tbody>\n",
              "    <tr>\n",
              "      <th>0</th>\n",
              "      <td>&lt;c#</td>\n",
              "      <td>61899</td>\n",
              "    </tr>\n",
              "    <tr>\n",
              "      <th>1</th>\n",
              "      <td>&lt;floating-point</td>\n",
              "      <td>1628</td>\n",
              "    </tr>\n",
              "    <tr>\n",
              "      <th>2</th>\n",
              "      <td>&lt;type-conversion</td>\n",
              "      <td>759</td>\n",
              "    </tr>\n",
              "    <tr>\n",
              "      <th>3</th>\n",
              "      <td>&lt;double</td>\n",
              "      <td>924</td>\n",
              "    </tr>\n",
              "    <tr>\n",
              "      <th>4</th>\n",
              "      <td>&lt;decimal</td>\n",
              "      <td>577</td>\n",
              "    </tr>\n",
              "    <tr>\n",
              "      <th>...</th>\n",
              "      <td>...</td>\n",
              "      <td>...</td>\n",
              "    </tr>\n",
              "    <tr>\n",
              "      <th>25305</th>\n",
              "      <td>&lt;codeanywhere</td>\n",
              "      <td>1</td>\n",
              "    </tr>\n",
              "    <tr>\n",
              "      <th>25306</th>\n",
              "      <td>&lt;iis-express-10</td>\n",
              "      <td>1</td>\n",
              "    </tr>\n",
              "    <tr>\n",
              "      <th>25307</th>\n",
              "      <td>&lt;prometheus-net</td>\n",
              "      <td>1</td>\n",
              "    </tr>\n",
              "    <tr>\n",
              "      <th>25308</th>\n",
              "      <td>&lt;supplier</td>\n",
              "      <td>1</td>\n",
              "    </tr>\n",
              "    <tr>\n",
              "      <th>25309</th>\n",
              "      <td>&lt;f5</td>\n",
              "      <td>1</td>\n",
              "    </tr>\n",
              "  </tbody>\n",
              "</table>\n",
              "<p>25310 rows × 2 columns</p>\n",
              "</div>\n",
              "      <button class=\"colab-df-convert\" onclick=\"convertToInteractive('df-2460bb16-52c9-4086-9dc5-2e3372d2b9dd')\"\n",
              "              title=\"Convert this dataframe to an interactive table.\"\n",
              "              style=\"display:none;\">\n",
              "        \n",
              "  <svg xmlns=\"http://www.w3.org/2000/svg\" height=\"24px\"viewBox=\"0 0 24 24\"\n",
              "       width=\"24px\">\n",
              "    <path d=\"M0 0h24v24H0V0z\" fill=\"none\"/>\n",
              "    <path d=\"M18.56 5.44l.94 2.06.94-2.06 2.06-.94-2.06-.94-.94-2.06-.94 2.06-2.06.94zm-11 1L8.5 8.5l.94-2.06 2.06-.94-2.06-.94L8.5 2.5l-.94 2.06-2.06.94zm10 10l.94 2.06.94-2.06 2.06-.94-2.06-.94-.94-2.06-.94 2.06-2.06.94z\"/><path d=\"M17.41 7.96l-1.37-1.37c-.4-.4-.92-.59-1.43-.59-.52 0-1.04.2-1.43.59L10.3 9.45l-7.72 7.72c-.78.78-.78 2.05 0 2.83L4 21.41c.39.39.9.59 1.41.59.51 0 1.02-.2 1.41-.59l7.78-7.78 2.81-2.81c.8-.78.8-2.07 0-2.86zM5.41 20L4 18.59l7.72-7.72 1.47 1.35L5.41 20z\"/>\n",
              "  </svg>\n",
              "      </button>\n",
              "      \n",
              "  <style>\n",
              "    .colab-df-container {\n",
              "      display:flex;\n",
              "      flex-wrap:wrap;\n",
              "      gap: 12px;\n",
              "    }\n",
              "\n",
              "    .colab-df-convert {\n",
              "      background-color: #E8F0FE;\n",
              "      border: none;\n",
              "      border-radius: 50%;\n",
              "      cursor: pointer;\n",
              "      display: none;\n",
              "      fill: #1967D2;\n",
              "      height: 32px;\n",
              "      padding: 0 0 0 0;\n",
              "      width: 32px;\n",
              "    }\n",
              "\n",
              "    .colab-df-convert:hover {\n",
              "      background-color: #E2EBFA;\n",
              "      box-shadow: 0px 1px 2px rgba(60, 64, 67, 0.3), 0px 1px 3px 1px rgba(60, 64, 67, 0.15);\n",
              "      fill: #174EA6;\n",
              "    }\n",
              "\n",
              "    [theme=dark] .colab-df-convert {\n",
              "      background-color: #3B4455;\n",
              "      fill: #D2E3FC;\n",
              "    }\n",
              "\n",
              "    [theme=dark] .colab-df-convert:hover {\n",
              "      background-color: #434B5C;\n",
              "      box-shadow: 0px 1px 3px 1px rgba(0, 0, 0, 0.15);\n",
              "      filter: drop-shadow(0px 1px 2px rgba(0, 0, 0, 0.3));\n",
              "      fill: #FFFFFF;\n",
              "    }\n",
              "  </style>\n",
              "\n",
              "      <script>\n",
              "        const buttonEl =\n",
              "          document.querySelector('#df-2460bb16-52c9-4086-9dc5-2e3372d2b9dd button.colab-df-convert');\n",
              "        buttonEl.style.display =\n",
              "          google.colab.kernel.accessAllowed ? 'block' : 'none';\n",
              "\n",
              "        async function convertToInteractive(key) {\n",
              "          const element = document.querySelector('#df-2460bb16-52c9-4086-9dc5-2e3372d2b9dd');\n",
              "          const dataTable =\n",
              "            await google.colab.kernel.invokeFunction('convertToInteractive',\n",
              "                                                     [key], {});\n",
              "          if (!dataTable) return;\n",
              "\n",
              "          const docLinkHtml = 'Like what you see? Visit the ' +\n",
              "            '<a target=\"_blank\" href=https://colab.research.google.com/notebooks/data_table.ipynb>data table notebook</a>'\n",
              "            + ' to learn more about interactive tables.';\n",
              "          element.innerHTML = '';\n",
              "          dataTable['output_type'] = 'display_data';\n",
              "          await google.colab.output.renderOutput(dataTable, element);\n",
              "          const docLink = document.createElement('div');\n",
              "          docLink.innerHTML = docLinkHtml;\n",
              "          element.appendChild(docLink);\n",
              "        }\n",
              "      </script>\n",
              "    </div>\n",
              "  </div>\n",
              "  "
            ]
          },
          "metadata": {},
          "execution_count": 193
        }
      ]
    },
    {
      "cell_type": "code",
      "source": [
        "df1 = pd.DataFrame()"
      ],
      "metadata": {
        "id": "TaLNYczEHLFF"
      },
      "execution_count": 194,
      "outputs": []
    },
    {
      "cell_type": "code",
      "source": [
        "df1 = pd.merge(real_values,duplicate,on=\"Tags\")\n",
        "df1"
      ],
      "metadata": {
        "colab": {
          "base_uri": "https://localhost:8080/",
          "height": 423
        },
        "id": "8pqwhQbwHNzO",
        "outputId": "e2bf8c54-a5c5-40e2-84c7-2399a19adfb0"
      },
      "execution_count": 195,
      "outputs": [
        {
          "output_type": "execute_result",
          "data": {
            "text/plain": [
              "                               Tags  Value_x  Value_y\n",
              "0                               <c#    61899     7023\n",
              "1                   <floating-point     1628      184\n",
              "2                  <type-conversion      759      125\n",
              "3                           <double      924       96\n",
              "4                          <decimal      577       73\n",
              "...                             ...      ...      ...\n",
              "8352  <asp.net-core-hosted-services        1        1\n",
              "8353                        <ml.net        1        1\n",
              "8354              <ant-media-server        1        1\n",
              "8355                <prometheus-net        1        1\n",
              "8356                      <supplier        1        1\n",
              "\n",
              "[8357 rows x 3 columns]"
            ],
            "text/html": [
              "\n",
              "  <div id=\"df-de51cf62-ead1-450e-937b-03c0ea5f8730\">\n",
              "    <div class=\"colab-df-container\">\n",
              "      <div>\n",
              "<style scoped>\n",
              "    .dataframe tbody tr th:only-of-type {\n",
              "        vertical-align: middle;\n",
              "    }\n",
              "\n",
              "    .dataframe tbody tr th {\n",
              "        vertical-align: top;\n",
              "    }\n",
              "\n",
              "    .dataframe thead th {\n",
              "        text-align: right;\n",
              "    }\n",
              "</style>\n",
              "<table border=\"1\" class=\"dataframe\">\n",
              "  <thead>\n",
              "    <tr style=\"text-align: right;\">\n",
              "      <th></th>\n",
              "      <th>Tags</th>\n",
              "      <th>Value_x</th>\n",
              "      <th>Value_y</th>\n",
              "    </tr>\n",
              "  </thead>\n",
              "  <tbody>\n",
              "    <tr>\n",
              "      <th>0</th>\n",
              "      <td>&lt;c#</td>\n",
              "      <td>61899</td>\n",
              "      <td>7023</td>\n",
              "    </tr>\n",
              "    <tr>\n",
              "      <th>1</th>\n",
              "      <td>&lt;floating-point</td>\n",
              "      <td>1628</td>\n",
              "      <td>184</td>\n",
              "    </tr>\n",
              "    <tr>\n",
              "      <th>2</th>\n",
              "      <td>&lt;type-conversion</td>\n",
              "      <td>759</td>\n",
              "      <td>125</td>\n",
              "    </tr>\n",
              "    <tr>\n",
              "      <th>3</th>\n",
              "      <td>&lt;double</td>\n",
              "      <td>924</td>\n",
              "      <td>96</td>\n",
              "    </tr>\n",
              "    <tr>\n",
              "      <th>4</th>\n",
              "      <td>&lt;decimal</td>\n",
              "      <td>577</td>\n",
              "      <td>73</td>\n",
              "    </tr>\n",
              "    <tr>\n",
              "      <th>...</th>\n",
              "      <td>...</td>\n",
              "      <td>...</td>\n",
              "      <td>...</td>\n",
              "    </tr>\n",
              "    <tr>\n",
              "      <th>8352</th>\n",
              "      <td>&lt;asp.net-core-hosted-services</td>\n",
              "      <td>1</td>\n",
              "      <td>1</td>\n",
              "    </tr>\n",
              "    <tr>\n",
              "      <th>8353</th>\n",
              "      <td>&lt;ml.net</td>\n",
              "      <td>1</td>\n",
              "      <td>1</td>\n",
              "    </tr>\n",
              "    <tr>\n",
              "      <th>8354</th>\n",
              "      <td>&lt;ant-media-server</td>\n",
              "      <td>1</td>\n",
              "      <td>1</td>\n",
              "    </tr>\n",
              "    <tr>\n",
              "      <th>8355</th>\n",
              "      <td>&lt;prometheus-net</td>\n",
              "      <td>1</td>\n",
              "      <td>1</td>\n",
              "    </tr>\n",
              "    <tr>\n",
              "      <th>8356</th>\n",
              "      <td>&lt;supplier</td>\n",
              "      <td>1</td>\n",
              "      <td>1</td>\n",
              "    </tr>\n",
              "  </tbody>\n",
              "</table>\n",
              "<p>8357 rows × 3 columns</p>\n",
              "</div>\n",
              "      <button class=\"colab-df-convert\" onclick=\"convertToInteractive('df-de51cf62-ead1-450e-937b-03c0ea5f8730')\"\n",
              "              title=\"Convert this dataframe to an interactive table.\"\n",
              "              style=\"display:none;\">\n",
              "        \n",
              "  <svg xmlns=\"http://www.w3.org/2000/svg\" height=\"24px\"viewBox=\"0 0 24 24\"\n",
              "       width=\"24px\">\n",
              "    <path d=\"M0 0h24v24H0V0z\" fill=\"none\"/>\n",
              "    <path d=\"M18.56 5.44l.94 2.06.94-2.06 2.06-.94-2.06-.94-.94-2.06-.94 2.06-2.06.94zm-11 1L8.5 8.5l.94-2.06 2.06-.94-2.06-.94L8.5 2.5l-.94 2.06-2.06.94zm10 10l.94 2.06.94-2.06 2.06-.94-2.06-.94-.94-2.06-.94 2.06-2.06.94z\"/><path d=\"M17.41 7.96l-1.37-1.37c-.4-.4-.92-.59-1.43-.59-.52 0-1.04.2-1.43.59L10.3 9.45l-7.72 7.72c-.78.78-.78 2.05 0 2.83L4 21.41c.39.39.9.59 1.41.59.51 0 1.02-.2 1.41-.59l7.78-7.78 2.81-2.81c.8-.78.8-2.07 0-2.86zM5.41 20L4 18.59l7.72-7.72 1.47 1.35L5.41 20z\"/>\n",
              "  </svg>\n",
              "      </button>\n",
              "      \n",
              "  <style>\n",
              "    .colab-df-container {\n",
              "      display:flex;\n",
              "      flex-wrap:wrap;\n",
              "      gap: 12px;\n",
              "    }\n",
              "\n",
              "    .colab-df-convert {\n",
              "      background-color: #E8F0FE;\n",
              "      border: none;\n",
              "      border-radius: 50%;\n",
              "      cursor: pointer;\n",
              "      display: none;\n",
              "      fill: #1967D2;\n",
              "      height: 32px;\n",
              "      padding: 0 0 0 0;\n",
              "      width: 32px;\n",
              "    }\n",
              "\n",
              "    .colab-df-convert:hover {\n",
              "      background-color: #E2EBFA;\n",
              "      box-shadow: 0px 1px 2px rgba(60, 64, 67, 0.3), 0px 1px 3px 1px rgba(60, 64, 67, 0.15);\n",
              "      fill: #174EA6;\n",
              "    }\n",
              "\n",
              "    [theme=dark] .colab-df-convert {\n",
              "      background-color: #3B4455;\n",
              "      fill: #D2E3FC;\n",
              "    }\n",
              "\n",
              "    [theme=dark] .colab-df-convert:hover {\n",
              "      background-color: #434B5C;\n",
              "      box-shadow: 0px 1px 3px 1px rgba(0, 0, 0, 0.15);\n",
              "      filter: drop-shadow(0px 1px 2px rgba(0, 0, 0, 0.3));\n",
              "      fill: #FFFFFF;\n",
              "    }\n",
              "  </style>\n",
              "\n",
              "      <script>\n",
              "        const buttonEl =\n",
              "          document.querySelector('#df-de51cf62-ead1-450e-937b-03c0ea5f8730 button.colab-df-convert');\n",
              "        buttonEl.style.display =\n",
              "          google.colab.kernel.accessAllowed ? 'block' : 'none';\n",
              "\n",
              "        async function convertToInteractive(key) {\n",
              "          const element = document.querySelector('#df-de51cf62-ead1-450e-937b-03c0ea5f8730');\n",
              "          const dataTable =\n",
              "            await google.colab.kernel.invokeFunction('convertToInteractive',\n",
              "                                                     [key], {});\n",
              "          if (!dataTable) return;\n",
              "\n",
              "          const docLinkHtml = 'Like what you see? Visit the ' +\n",
              "            '<a target=\"_blank\" href=https://colab.research.google.com/notebooks/data_table.ipynb>data table notebook</a>'\n",
              "            + ' to learn more about interactive tables.';\n",
              "          element.innerHTML = '';\n",
              "          dataTable['output_type'] = 'display_data';\n",
              "          await google.colab.output.renderOutput(dataTable, element);\n",
              "          const docLink = document.createElement('div');\n",
              "          docLink.innerHTML = docLinkHtml;\n",
              "          element.appendChild(docLink);\n",
              "        }\n",
              "      </script>\n",
              "    </div>\n",
              "  </div>\n",
              "  "
            ]
          },
          "metadata": {},
          "execution_count": 195
        }
      ]
    },
    {
      "cell_type": "code",
      "source": [
        "n1 = df1['Value_x'][0]\n",
        "n2 = df1['Value_y'][0]"
      ],
      "metadata": {
        "id": "5DXCyGa1HO9W"
      },
      "execution_count": 196,
      "outputs": []
    },
    {
      "cell_type": "code",
      "source": [
        "def percentage(n1,n2):\n",
        "  quotient = n1 / n2\n",
        "\n",
        "  percent = quotient * 100\n",
        "  print(percent)\n",
        "  return(percent)\n",
        "\n",
        "percentage(n2,n1)"
      ],
      "metadata": {
        "colab": {
          "base_uri": "https://localhost:8080/"
        },
        "id": "sRaaOR--HQcO",
        "outputId": "a40478f3-3d08-4b11-e47f-2da8c974166a"
      },
      "execution_count": 197,
      "outputs": [
        {
          "output_type": "stream",
          "name": "stdout",
          "text": [
            "11.345902195512043\n"
          ]
        },
        {
          "output_type": "execute_result",
          "data": {
            "text/plain": [
              "11.345902195512043"
            ]
          },
          "metadata": {},
          "execution_count": 197
        }
      ]
    },
    {
      "cell_type": "code",
      "source": [
        "df11 = df1"
      ],
      "metadata": {
        "id": "KRc_pzN2HScd"
      },
      "execution_count": 198,
      "outputs": []
    },
    {
      "cell_type": "code",
      "source": [
        "percentages = []\n",
        "for i in range(len(df11)):\n",
        "  n1 = df11['Value_x'][i]\n",
        "  n2 = df11['Value_y'][i]\n",
        "  a = percentage(n2,n1)\n",
        "  percentages.append(a)\n",
        "print(percentages)"
      ],
      "metadata": {
        "id": "fkGF6xuLHVNS"
      },
      "execution_count": null,
      "outputs": []
    },
    {
      "cell_type": "code",
      "source": [
        "df11['percentage'] = percentages"
      ],
      "metadata": {
        "id": "AYRpLEk8HXJt"
      },
      "execution_count": 202,
      "outputs": []
    },
    {
      "cell_type": "code",
      "source": [
        "df11"
      ],
      "metadata": {
        "colab": {
          "base_uri": "https://localhost:8080/",
          "height": 423
        },
        "id": "3ZBV-bGwHYm7",
        "outputId": "7ec40107-441a-49b1-e274-b8fc5d60c605"
      },
      "execution_count": 203,
      "outputs": [
        {
          "output_type": "execute_result",
          "data": {
            "text/plain": [
              "                               Tags  Value_x  Value_y  percentage\n",
              "0                               <c#    61899     7023   11.345902\n",
              "1                   <floating-point     1628      184   11.302211\n",
              "2                  <type-conversion      759      125   16.469038\n",
              "3                           <double      924       96   10.389610\n",
              "4                          <decimal      577       73   12.651646\n",
              "...                             ...      ...      ...         ...\n",
              "8352  <asp.net-core-hosted-services        1        1  100.000000\n",
              "8353                        <ml.net        1        1  100.000000\n",
              "8354              <ant-media-server        1        1  100.000000\n",
              "8355                <prometheus-net        1        1  100.000000\n",
              "8356                      <supplier        1        1  100.000000\n",
              "\n",
              "[8357 rows x 4 columns]"
            ],
            "text/html": [
              "\n",
              "  <div id=\"df-fcb943ed-0755-47a0-8751-ce8e4bec3cd2\">\n",
              "    <div class=\"colab-df-container\">\n",
              "      <div>\n",
              "<style scoped>\n",
              "    .dataframe tbody tr th:only-of-type {\n",
              "        vertical-align: middle;\n",
              "    }\n",
              "\n",
              "    .dataframe tbody tr th {\n",
              "        vertical-align: top;\n",
              "    }\n",
              "\n",
              "    .dataframe thead th {\n",
              "        text-align: right;\n",
              "    }\n",
              "</style>\n",
              "<table border=\"1\" class=\"dataframe\">\n",
              "  <thead>\n",
              "    <tr style=\"text-align: right;\">\n",
              "      <th></th>\n",
              "      <th>Tags</th>\n",
              "      <th>Value_x</th>\n",
              "      <th>Value_y</th>\n",
              "      <th>percentage</th>\n",
              "    </tr>\n",
              "  </thead>\n",
              "  <tbody>\n",
              "    <tr>\n",
              "      <th>0</th>\n",
              "      <td>&lt;c#</td>\n",
              "      <td>61899</td>\n",
              "      <td>7023</td>\n",
              "      <td>11.345902</td>\n",
              "    </tr>\n",
              "    <tr>\n",
              "      <th>1</th>\n",
              "      <td>&lt;floating-point</td>\n",
              "      <td>1628</td>\n",
              "      <td>184</td>\n",
              "      <td>11.302211</td>\n",
              "    </tr>\n",
              "    <tr>\n",
              "      <th>2</th>\n",
              "      <td>&lt;type-conversion</td>\n",
              "      <td>759</td>\n",
              "      <td>125</td>\n",
              "      <td>16.469038</td>\n",
              "    </tr>\n",
              "    <tr>\n",
              "      <th>3</th>\n",
              "      <td>&lt;double</td>\n",
              "      <td>924</td>\n",
              "      <td>96</td>\n",
              "      <td>10.389610</td>\n",
              "    </tr>\n",
              "    <tr>\n",
              "      <th>4</th>\n",
              "      <td>&lt;decimal</td>\n",
              "      <td>577</td>\n",
              "      <td>73</td>\n",
              "      <td>12.651646</td>\n",
              "    </tr>\n",
              "    <tr>\n",
              "      <th>...</th>\n",
              "      <td>...</td>\n",
              "      <td>...</td>\n",
              "      <td>...</td>\n",
              "      <td>...</td>\n",
              "    </tr>\n",
              "    <tr>\n",
              "      <th>8352</th>\n",
              "      <td>&lt;asp.net-core-hosted-services</td>\n",
              "      <td>1</td>\n",
              "      <td>1</td>\n",
              "      <td>100.000000</td>\n",
              "    </tr>\n",
              "    <tr>\n",
              "      <th>8353</th>\n",
              "      <td>&lt;ml.net</td>\n",
              "      <td>1</td>\n",
              "      <td>1</td>\n",
              "      <td>100.000000</td>\n",
              "    </tr>\n",
              "    <tr>\n",
              "      <th>8354</th>\n",
              "      <td>&lt;ant-media-server</td>\n",
              "      <td>1</td>\n",
              "      <td>1</td>\n",
              "      <td>100.000000</td>\n",
              "    </tr>\n",
              "    <tr>\n",
              "      <th>8355</th>\n",
              "      <td>&lt;prometheus-net</td>\n",
              "      <td>1</td>\n",
              "      <td>1</td>\n",
              "      <td>100.000000</td>\n",
              "    </tr>\n",
              "    <tr>\n",
              "      <th>8356</th>\n",
              "      <td>&lt;supplier</td>\n",
              "      <td>1</td>\n",
              "      <td>1</td>\n",
              "      <td>100.000000</td>\n",
              "    </tr>\n",
              "  </tbody>\n",
              "</table>\n",
              "<p>8357 rows × 4 columns</p>\n",
              "</div>\n",
              "      <button class=\"colab-df-convert\" onclick=\"convertToInteractive('df-fcb943ed-0755-47a0-8751-ce8e4bec3cd2')\"\n",
              "              title=\"Convert this dataframe to an interactive table.\"\n",
              "              style=\"display:none;\">\n",
              "        \n",
              "  <svg xmlns=\"http://www.w3.org/2000/svg\" height=\"24px\"viewBox=\"0 0 24 24\"\n",
              "       width=\"24px\">\n",
              "    <path d=\"M0 0h24v24H0V0z\" fill=\"none\"/>\n",
              "    <path d=\"M18.56 5.44l.94 2.06.94-2.06 2.06-.94-2.06-.94-.94-2.06-.94 2.06-2.06.94zm-11 1L8.5 8.5l.94-2.06 2.06-.94-2.06-.94L8.5 2.5l-.94 2.06-2.06.94zm10 10l.94 2.06.94-2.06 2.06-.94-2.06-.94-.94-2.06-.94 2.06-2.06.94z\"/><path d=\"M17.41 7.96l-1.37-1.37c-.4-.4-.92-.59-1.43-.59-.52 0-1.04.2-1.43.59L10.3 9.45l-7.72 7.72c-.78.78-.78 2.05 0 2.83L4 21.41c.39.39.9.59 1.41.59.51 0 1.02-.2 1.41-.59l7.78-7.78 2.81-2.81c.8-.78.8-2.07 0-2.86zM5.41 20L4 18.59l7.72-7.72 1.47 1.35L5.41 20z\"/>\n",
              "  </svg>\n",
              "      </button>\n",
              "      \n",
              "  <style>\n",
              "    .colab-df-container {\n",
              "      display:flex;\n",
              "      flex-wrap:wrap;\n",
              "      gap: 12px;\n",
              "    }\n",
              "\n",
              "    .colab-df-convert {\n",
              "      background-color: #E8F0FE;\n",
              "      border: none;\n",
              "      border-radius: 50%;\n",
              "      cursor: pointer;\n",
              "      display: none;\n",
              "      fill: #1967D2;\n",
              "      height: 32px;\n",
              "      padding: 0 0 0 0;\n",
              "      width: 32px;\n",
              "    }\n",
              "\n",
              "    .colab-df-convert:hover {\n",
              "      background-color: #E2EBFA;\n",
              "      box-shadow: 0px 1px 2px rgba(60, 64, 67, 0.3), 0px 1px 3px 1px rgba(60, 64, 67, 0.15);\n",
              "      fill: #174EA6;\n",
              "    }\n",
              "\n",
              "    [theme=dark] .colab-df-convert {\n",
              "      background-color: #3B4455;\n",
              "      fill: #D2E3FC;\n",
              "    }\n",
              "\n",
              "    [theme=dark] .colab-df-convert:hover {\n",
              "      background-color: #434B5C;\n",
              "      box-shadow: 0px 1px 3px 1px rgba(0, 0, 0, 0.15);\n",
              "      filter: drop-shadow(0px 1px 2px rgba(0, 0, 0, 0.3));\n",
              "      fill: #FFFFFF;\n",
              "    }\n",
              "  </style>\n",
              "\n",
              "      <script>\n",
              "        const buttonEl =\n",
              "          document.querySelector('#df-fcb943ed-0755-47a0-8751-ce8e4bec3cd2 button.colab-df-convert');\n",
              "        buttonEl.style.display =\n",
              "          google.colab.kernel.accessAllowed ? 'block' : 'none';\n",
              "\n",
              "        async function convertToInteractive(key) {\n",
              "          const element = document.querySelector('#df-fcb943ed-0755-47a0-8751-ce8e4bec3cd2');\n",
              "          const dataTable =\n",
              "            await google.colab.kernel.invokeFunction('convertToInteractive',\n",
              "                                                     [key], {});\n",
              "          if (!dataTable) return;\n",
              "\n",
              "          const docLinkHtml = 'Like what you see? Visit the ' +\n",
              "            '<a target=\"_blank\" href=https://colab.research.google.com/notebooks/data_table.ipynb>data table notebook</a>'\n",
              "            + ' to learn more about interactive tables.';\n",
              "          element.innerHTML = '';\n",
              "          dataTable['output_type'] = 'display_data';\n",
              "          await google.colab.output.renderOutput(dataTable, element);\n",
              "          const docLink = document.createElement('div');\n",
              "          docLink.innerHTML = docLinkHtml;\n",
              "          element.appendChild(docLink);\n",
              "        }\n",
              "      </script>\n",
              "    </div>\n",
              "  </div>\n",
              "  "
            ]
          },
          "metadata": {},
          "execution_count": 203
        }
      ]
    },
    {
      "cell_type": "code",
      "source": [
        "x = [i for i in range(len(df11))]\n",
        "print(x)"
      ],
      "metadata": {
        "id": "5LpSAfHEHbLn"
      },
      "execution_count": null,
      "outputs": []
    },
    {
      "cell_type": "code",
      "source": [
        "plt.figure(figsize=(25, 7))\n",
        "plt.plot(x,percentages)\n",
        "plt.xlabel(\"Months\")\n",
        "plt.ylabel(\"Ratio\")\n",
        "plt.title(\"Month wise Ratio of Duplication\")\n",
        "\n",
        "#plt.xticks(x, lables_of_tags, rotation ='vertical')\n",
        "\n",
        "plt.show()"
      ],
      "metadata": {
        "colab": {
          "base_uri": "https://localhost:8080/",
          "height": 405
        },
        "id": "nizBUL37HdCP",
        "outputId": "398fad30-69ac-4d37-e219-b5ac0e50e886"
      },
      "execution_count": 205,
      "outputs": [
        {
          "output_type": "display_data",
          "data": {
            "text/plain": [
              "<Figure size 1800x504 with 1 Axes>"
            ],
            "image/png": "[encoded data removed]"
          },
          "metadata": {
            "needs_background": "light"
          }
        }
      ]
    },
    {
      "cell_type": "code",
      "source": [
        "from collections import Counter\n",
        "input_value = tags1\n",
        "c = Counter( input_value )\n",
        "\n",
        "print( c.items() )"
      ],
      "metadata": {
        "id": "u7SD6ZHYHfZu"
      },
      "execution_count": null,
      "outputs": []
    },
    {
      "cell_type": "code",
      "source": [
        "d = dict(c)"
      ],
      "metadata": {
        "id": "86ysImYrHiwm"
      },
      "execution_count": 207,
      "outputs": []
    },
    {
      "cell_type": "code",
      "source": [
        "import operator\n",
        "sorted_d = dict( sorted(d.items(), key=operator.itemgetter(1),reverse=True))"
      ],
      "metadata": {
        "id": "JihI6HSpHq2H"
      },
      "execution_count": 208,
      "outputs": []
    },
    {
      "cell_type": "code",
      "source": [
        "sorted_d.pop(\"\")"
      ],
      "metadata": {
        "colab": {
          "base_uri": "https://localhost:8080/"
        },
        "id": "SwCCwxx4Hs7W",
        "outputId": "baebf729-adc9-4c54-ea8f-a860d5a0cf74"
      },
      "execution_count": 209,
      "outputs": [
        {
          "output_type": "execute_result",
          "data": {
            "text/plain": [
              "87874"
            ]
          },
          "metadata": {},
          "execution_count": 209
        }
      ]
    },
    {
      "cell_type": "code",
      "source": [
        "top20 = {}\n",
        "count1 = 0\n",
        "for a,b in sorted_d.items():\n",
        "  if count1==20:\n",
        "    break;\n",
        "  top20[a] = b\n",
        "  count1 += 1\n",
        "print(top20)\n",
        "print(len(top20))"
      ],
      "metadata": {
        "colab": {
          "base_uri": "https://localhost:8080/"
        },
        "id": "_Zd2zPXCHvGF",
        "outputId": "0692256e-a3dc-4745-ad54-bef48d75f0a4"
      },
      "execution_count": 227,
      "outputs": [
        {
          "output_type": "stream",
          "name": "stdout",
          "text": [
            "{'<java': 12305, '<javascript': 11903, '<python': 11681, '<php': 8163, '<c#': 7023, '<android': 5290, '<html': 4999, '<c++': 3665, '<mysql': 3434, '<jquery': 3378, '<css': 3358, '<r': 3330, '<arrays': 3191, '<c': 2784, '<python-3.x': 2487, '<regex': 2283, '<swift': 1967, '<json': 1950, '<sql': 1873, '<ios': 1741}\n",
            "20\n"
          ]
        }
      ]
    },
    {
      "cell_type": "code",
      "source": [
        "top20_data = pd.DataFrame([top20])"
      ],
      "metadata": {
        "id": "kBm11RaUHwjD"
      },
      "execution_count": 226,
      "outputs": []
    },
    {
      "cell_type": "code",
      "source": [
        "top20_data"
      ],
      "metadata": {
        "colab": {
          "base_uri": "https://localhost:8080/",
          "height": 81
        },
        "id": "Oor-jBjqHySb",
        "outputId": "d95baad4-f282-48e9-bd74-bcf6d0023151"
      },
      "execution_count": 212,
      "outputs": [
        {
          "output_type": "execute_result",
          "data": {
            "text/plain": [
              "   <java  <javascript  <python  <php   <c#  <android  <html  <c++  <mysql  \\\n",
              "0  12305        11903    11681  8163  7023      5290   4999  3665    3434   \n",
              "\n",
              "   <jquery  <css    <r  <arrays    <c  <python-3.x  <regex  <swift  <json  \\\n",
              "0     3378  3358  3330     3191  2784         2487    2283    1967   1950   \n",
              "\n",
              "   <sql  <ios  \n",
              "0  1873  1741  "
            ],
            "text/html": [
              "\n",
              "  <div id=\"df-48ff1cc8-5aef-4114-bc44-88830fd26760\">\n",
              "    <div class=\"colab-df-container\">\n",
              "      <div>\n",
              "<style scoped>\n",
              "    .dataframe tbody tr th:only-of-type {\n",
              "        vertical-align: middle;\n",
              "    }\n",
              "\n",
              "    .dataframe tbody tr th {\n",
              "        vertical-align: top;\n",
              "    }\n",
              "\n",
              "    .dataframe thead th {\n",
              "        text-align: right;\n",
              "    }\n",
              "</style>\n",
              "<table border=\"1\" class=\"dataframe\">\n",
              "  <thead>\n",
              "    <tr style=\"text-align: right;\">\n",
              "      <th></th>\n",
              "      <th>&lt;java</th>\n",
              "      <th>&lt;javascript</th>\n",
              "      <th>&lt;python</th>\n",
              "      <th>&lt;php</th>\n",
              "      <th>&lt;c#</th>\n",
              "      <th>&lt;android</th>\n",
              "      <th>&lt;html</th>\n",
              "      <th>&lt;c++</th>\n",
              "      <th>&lt;mysql</th>\n",
              "      <th>&lt;jquery</th>\n",
              "      <th>&lt;css</th>\n",
              "      <th>&lt;r</th>\n",
              "      <th>&lt;arrays</th>\n",
              "      <th>&lt;c</th>\n",
              "      <th>&lt;python-3.x</th>\n",
              "      <th>&lt;regex</th>\n",
              "      <th>&lt;swift</th>\n",
              "      <th>&lt;json</th>\n",
              "      <th>&lt;sql</th>\n",
              "      <th>&lt;ios</th>\n",
              "    </tr>\n",
              "  </thead>\n",
              "  <tbody>\n",
              "    <tr>\n",
              "      <th>0</th>\n",
              "      <td>12305</td>\n",
              "      <td>11903</td>\n",
              "      <td>11681</td>\n",
              "      <td>8163</td>\n",
              "      <td>7023</td>\n",
              "      <td>5290</td>\n",
              "      <td>4999</td>\n",
              "      <td>3665</td>\n",
              "      <td>3434</td>\n",
              "      <td>3378</td>\n",
              "      <td>3358</td>\n",
              "      <td>3330</td>\n",
              "      <td>3191</td>\n",
              "      <td>2784</td>\n",
              "      <td>2487</td>\n",
              "      <td>2283</td>\n",
              "      <td>1967</td>\n",
              "      <td>1950</td>\n",
              "      <td>1873</td>\n",
              "      <td>1741</td>\n",
              "    </tr>\n",
              "  </tbody>\n",
              "</table>\n",
              "</div>\n",
              "      <button class=\"colab-df-convert\" onclick=\"convertToInteractive('df-48ff1cc8-5aef-4114-bc44-88830fd26760')\"\n",
              "              title=\"Convert this dataframe to an interactive table.\"\n",
              "              style=\"display:none;\">\n",
              "        \n",
              "  <svg xmlns=\"http://www.w3.org/2000/svg\" height=\"24px\"viewBox=\"0 0 24 24\"\n",
              "       width=\"24px\">\n",
              "    <path d=\"M0 0h24v24H0V0z\" fill=\"none\"/>\n",
              "    <path d=\"M18.56 5.44l.94 2.06.94-2.06 2.06-.94-2.06-.94-.94-2.06-.94 2.06-2.06.94zm-11 1L8.5 8.5l.94-2.06 2.06-.94-2.06-.94L8.5 2.5l-.94 2.06-2.06.94zm10 10l.94 2.06.94-2.06 2.06-.94-2.06-.94-.94-2.06-.94 2.06-2.06.94z\"/><path d=\"M17.41 7.96l-1.37-1.37c-.4-.4-.92-.59-1.43-.59-.52 0-1.04.2-1.43.59L10.3 9.45l-7.72 7.72c-.78.78-.78 2.05 0 2.83L4 21.41c.39.39.9.59 1.41.59.51 0 1.02-.2 1.41-.59l7.78-7.78 2.81-2.81c.8-.78.8-2.07 0-2.86zM5.41 20L4 18.59l7.72-7.72 1.47 1.35L5.41 20z\"/>\n",
              "  </svg>\n",
              "      </button>\n",
              "      \n",
              "  <style>\n",
              "    .colab-df-container {\n",
              "      display:flex;\n",
              "      flex-wrap:wrap;\n",
              "      gap: 12px;\n",
              "    }\n",
              "\n",
              "    .colab-df-convert {\n",
              "      background-color: #E8F0FE;\n",
              "      border: none;\n",
              "      border-radius: 50%;\n",
              "      cursor: pointer;\n",
              "      display: none;\n",
              "      fill: #1967D2;\n",
              "      height: 32px;\n",
              "      padding: 0 0 0 0;\n",
              "      width: 32px;\n",
              "    }\n",
              "\n",
              "    .colab-df-convert:hover {\n",
              "      background-color: #E2EBFA;\n",
              "      box-shadow: 0px 1px 2px rgba(60, 64, 67, 0.3), 0px 1px 3px 1px rgba(60, 64, 67, 0.15);\n",
              "      fill: #174EA6;\n",
              "    }\n",
              "\n",
              "    [theme=dark] .colab-df-convert {\n",
              "      background-color: #3B4455;\n",
              "      fill: #D2E3FC;\n",
              "    }\n",
              "\n",
              "    [theme=dark] .colab-df-convert:hover {\n",
              "      background-color: #434B5C;\n",
              "      box-shadow: 0px 1px 3px 1px rgba(0, 0, 0, 0.15);\n",
              "      filter: drop-shadow(0px 1px 2px rgba(0, 0, 0, 0.3));\n",
              "      fill: #FFFFFF;\n",
              "    }\n",
              "  </style>\n",
              "\n",
              "      <script>\n",
              "        const buttonEl =\n",
              "          document.querySelector('#df-48ff1cc8-5aef-4114-bc44-88830fd26760 button.colab-df-convert');\n",
              "        buttonEl.style.display =\n",
              "          google.colab.kernel.accessAllowed ? 'block' : 'none';\n",
              "\n",
              "        async function convertToInteractive(key) {\n",
              "          const element = document.querySelector('#df-48ff1cc8-5aef-4114-bc44-88830fd26760');\n",
              "          const dataTable =\n",
              "            await google.colab.kernel.invokeFunction('convertToInteractive',\n",
              "                                                     [key], {});\n",
              "          if (!dataTable) return;\n",
              "\n",
              "          const docLinkHtml = 'Like what you see? Visit the ' +\n",
              "            '<a target=\"_blank\" href=https://colab.research.google.com/notebooks/data_table.ipynb>data table notebook</a>'\n",
              "            + ' to learn more about interactive tables.';\n",
              "          element.innerHTML = '';\n",
              "          dataTable['output_type'] = 'display_data';\n",
              "          await google.colab.output.renderOutput(dataTable, element);\n",
              "          const docLink = document.createElement('div');\n",
              "          docLink.innerHTML = docLinkHtml;\n",
              "          element.appendChild(docLink);\n",
              "        }\n",
              "      </script>\n",
              "    </div>\n",
              "  </div>\n",
              "  "
            ]
          },
          "metadata": {},
          "execution_count": 212
        }
      ]
    },
    {
      "cell_type": "code",
      "source": [
        "top20_data = top20_data.melt( \n",
        "        var_name=\"Tags\", \n",
        "        value_name=\"Value\")\n"
      ],
      "metadata": {
        "id": "PGhEYxIjH1cX"
      },
      "execution_count": 213,
      "outputs": []
    },
    {
      "cell_type": "code",
      "source": [
        "top20_data"
      ],
      "metadata": {
        "colab": {
          "base_uri": "https://localhost:8080/",
          "height": 676
        },
        "id": "w2kkllTXH3YD",
        "outputId": "3eaec9d1-103e-48b6-cf9c-5c488591bf53"
      },
      "execution_count": 214,
      "outputs": [
        {
          "output_type": "execute_result",
          "data": {
            "text/plain": [
              "           Tags  Value\n",
              "0         <java  12305\n",
              "1   <javascript  11903\n",
              "2       <python  11681\n",
              "3          <php   8163\n",
              "4           <c#   7023\n",
              "5      <android   5290\n",
              "6         <html   4999\n",
              "7          <c++   3665\n",
              "8        <mysql   3434\n",
              "9       <jquery   3378\n",
              "10         <css   3358\n",
              "11           <r   3330\n",
              "12      <arrays   3191\n",
              "13           <c   2784\n",
              "14  <python-3.x   2487\n",
              "15       <regex   2283\n",
              "16       <swift   1967\n",
              "17        <json   1950\n",
              "18         <sql   1873\n",
              "19         <ios   1741"
            ],
            "text/html": [
              "\n",
              "  <div id=\"df-a2bab8ea-fc34-450f-acf9-db35283dd3b4\">\n",
              "    <div class=\"colab-df-container\">\n",
              "      <div>\n",
              "<style scoped>\n",
              "    .dataframe tbody tr th:only-of-type {\n",
              "        vertical-align: middle;\n",
              "    }\n",
              "\n",
              "    .dataframe tbody tr th {\n",
              "        vertical-align: top;\n",
              "    }\n",
              "\n",
              "    .dataframe thead th {\n",
              "        text-align: right;\n",
              "    }\n",
              "</style>\n",
              "<table border=\"1\" class=\"dataframe\">\n",
              "  <thead>\n",
              "    <tr style=\"text-align: right;\">\n",
              "      <th></th>\n",
              "      <th>Tags</th>\n",
              "      <th>Value</th>\n",
              "    </tr>\n",
              "  </thead>\n",
              "  <tbody>\n",
              "    <tr>\n",
              "      <th>0</th>\n",
              "      <td>&lt;java</td>\n",
              "      <td>12305</td>\n",
              "    </tr>\n",
              "    <tr>\n",
              "      <th>1</th>\n",
              "      <td>&lt;javascript</td>\n",
              "      <td>11903</td>\n",
              "    </tr>\n",
              "    <tr>\n",
              "      <th>2</th>\n",
              "      <td>&lt;python</td>\n",
              "      <td>11681</td>\n",
              "    </tr>\n",
              "    <tr>\n",
              "      <th>3</th>\n",
              "      <td>&lt;php</td>\n",
              "      <td>8163</td>\n",
              "    </tr>\n",
              "    <tr>\n",
              "      <th>4</th>\n",
              "      <td>&lt;c#</td>\n",
              "      <td>7023</td>\n",
              "    </tr>\n",
              "    <tr>\n",
              "      <th>5</th>\n",
              "      <td>&lt;android</td>\n",
              "      <td>5290</td>\n",
              "    </tr>\n",
              "    <tr>\n",
              "      <th>6</th>\n",
              "      <td>&lt;html</td>\n",
              "      <td>4999</td>\n",
              "    </tr>\n",
              "    <tr>\n",
              "      <th>7</th>\n",
              "      <td>&lt;c++</td>\n",
              "      <td>3665</td>\n",
              "    </tr>\n",
              "    <tr>\n",
              "      <th>8</th>\n",
              "      <td>&lt;mysql</td>\n",
              "      <td>3434</td>\n",
              "    </tr>\n",
              "    <tr>\n",
              "      <th>9</th>\n",
              "      <td>&lt;jquery</td>\n",
              "      <td>3378</td>\n",
              "    </tr>\n",
              "    <tr>\n",
              "      <th>10</th>\n",
              "      <td>&lt;css</td>\n",
              "      <td>3358</td>\n",
              "    </tr>\n",
              "    <tr>\n",
              "      <th>11</th>\n",
              "      <td>&lt;r</td>\n",
              "      <td>3330</td>\n",
              "    </tr>\n",
              "    <tr>\n",
              "      <th>12</th>\n",
              "      <td>&lt;arrays</td>\n",
              "      <td>3191</td>\n",
              "    </tr>\n",
              "    <tr>\n",
              "      <th>13</th>\n",
              "      <td>&lt;c</td>\n",
              "      <td>2784</td>\n",
              "    </tr>\n",
              "    <tr>\n",
              "      <th>14</th>\n",
              "      <td>&lt;python-3.x</td>\n",
              "      <td>2487</td>\n",
              "    </tr>\n",
              "    <tr>\n",
              "      <th>15</th>\n",
              "      <td>&lt;regex</td>\n",
              "      <td>2283</td>\n",
              "    </tr>\n",
              "    <tr>\n",
              "      <th>16</th>\n",
              "      <td>&lt;swift</td>\n",
              "      <td>1967</td>\n",
              "    </tr>\n",
              "    <tr>\n",
              "      <th>17</th>\n",
              "      <td>&lt;json</td>\n",
              "      <td>1950</td>\n",
              "    </tr>\n",
              "    <tr>\n",
              "      <th>18</th>\n",
              "      <td>&lt;sql</td>\n",
              "      <td>1873</td>\n",
              "    </tr>\n",
              "    <tr>\n",
              "      <th>19</th>\n",
              "      <td>&lt;ios</td>\n",
              "      <td>1741</td>\n",
              "    </tr>\n",
              "  </tbody>\n",
              "</table>\n",
              "</div>\n",
              "      <button class=\"colab-df-convert\" onclick=\"convertToInteractive('df-a2bab8ea-fc34-450f-acf9-db35283dd3b4')\"\n",
              "              title=\"Convert this dataframe to an interactive table.\"\n",
              "              style=\"display:none;\">\n",
              "        \n",
              "  <svg xmlns=\"http://www.w3.org/2000/svg\" height=\"24px\"viewBox=\"0 0 24 24\"\n",
              "       width=\"24px\">\n",
              "    <path d=\"M0 0h24v24H0V0z\" fill=\"none\"/>\n",
              "    <path d=\"M18.56 5.44l.94 2.06.94-2.06 2.06-.94-2.06-.94-.94-2.06-.94 2.06-2.06.94zm-11 1L8.5 8.5l.94-2.06 2.06-.94-2.06-.94L8.5 2.5l-.94 2.06-2.06.94zm10 10l.94 2.06.94-2.06 2.06-.94-2.06-.94-.94-2.06-.94 2.06-2.06.94z\"/><path d=\"M17.41 7.96l-1.37-1.37c-.4-.4-.92-.59-1.43-.59-.52 0-1.04.2-1.43.59L10.3 9.45l-7.72 7.72c-.78.78-.78 2.05 0 2.83L4 21.41c.39.39.9.59 1.41.59.51 0 1.02-.2 1.41-.59l7.78-7.78 2.81-2.81c.8-.78.8-2.07 0-2.86zM5.41 20L4 18.59l7.72-7.72 1.47 1.35L5.41 20z\"/>\n",
              "  </svg>\n",
              "      </button>\n",
              "      \n",
              "  <style>\n",
              "    .colab-df-container {\n",
              "      display:flex;\n",
              "      flex-wrap:wrap;\n",
              "      gap: 12px;\n",
              "    }\n",
              "\n",
              "    .colab-df-convert {\n",
              "      background-color: #E8F0FE;\n",
              "      border: none;\n",
              "      border-radius: 50%;\n",
              "      cursor: pointer;\n",
              "      display: none;\n",
              "      fill: #1967D2;\n",
              "      height: 32px;\n",
              "      padding: 0 0 0 0;\n",
              "      width: 32px;\n",
              "    }\n",
              "\n",
              "    .colab-df-convert:hover {\n",
              "      background-color: #E2EBFA;\n",
              "      box-shadow: 0px 1px 2px rgba(60, 64, 67, 0.3), 0px 1px 3px 1px rgba(60, 64, 67, 0.15);\n",
              "      fill: #174EA6;\n",
              "    }\n",
              "\n",
              "    [theme=dark] .colab-df-convert {\n",
              "      background-color: #3B4455;\n",
              "      fill: #D2E3FC;\n",
              "    }\n",
              "\n",
              "    [theme=dark] .colab-df-convert:hover {\n",
              "      background-color: #434B5C;\n",
              "      box-shadow: 0px 1px 3px 1px rgba(0, 0, 0, 0.15);\n",
              "      filter: drop-shadow(0px 1px 2px rgba(0, 0, 0, 0.3));\n",
              "      fill: #FFFFFF;\n",
              "    }\n",
              "  </style>\n",
              "\n",
              "      <script>\n",
              "        const buttonEl =\n",
              "          document.querySelector('#df-a2bab8ea-fc34-450f-acf9-db35283dd3b4 button.colab-df-convert');\n",
              "        buttonEl.style.display =\n",
              "          google.colab.kernel.accessAllowed ? 'block' : 'none';\n",
              "\n",
              "        async function convertToInteractive(key) {\n",
              "          const element = document.querySelector('#df-a2bab8ea-fc34-450f-acf9-db35283dd3b4');\n",
              "          const dataTable =\n",
              "            await google.colab.kernel.invokeFunction('convertToInteractive',\n",
              "                                                     [key], {});\n",
              "          if (!dataTable) return;\n",
              "\n",
              "          const docLinkHtml = 'Like what you see? Visit the ' +\n",
              "            '<a target=\"_blank\" href=https://colab.research.google.com/notebooks/data_table.ipynb>data table notebook</a>'\n",
              "            + ' to learn more about interactive tables.';\n",
              "          element.innerHTML = '';\n",
              "          dataTable['output_type'] = 'display_data';\n",
              "          await google.colab.output.renderOutput(dataTable, element);\n",
              "          const docLink = document.createElement('div');\n",
              "          docLink.innerHTML = docLinkHtml;\n",
              "          element.appendChild(docLink);\n",
              "        }\n",
              "      </script>\n",
              "    </div>\n",
              "  </div>\n",
              "  "
            ]
          },
          "metadata": {},
          "execution_count": 214
        }
      ]
    },
    {
      "cell_type": "code",
      "source": [
        "df_percent = pd.merge(top20_data,df11,on=\"Tags\")\n",
        "df_percent\n"
      ],
      "metadata": {
        "colab": {
          "base_uri": "https://localhost:8080/",
          "height": 676
        },
        "id": "PQnKqW3AH4z_",
        "outputId": "a322fed2-939c-44a8-d05a-c753cf8eeb65"
      },
      "execution_count": 225,
      "outputs": [
        {
          "output_type": "execute_result",
          "data": {
            "text/plain": [
              "           Tags  Value  Value_x  Value_y  percentage\n",
              "0         <java  12305    94846    12305   12.973663\n",
              "1   <javascript  11903    81346    11903   14.632557\n",
              "2       <python  11681    61505    11681   18.991952\n",
              "3          <php   8163    65333     8163   12.494452\n",
              "4           <c#   7023    61899     7023   11.345902\n",
              "5      <android   5290    39910     5290   13.254823\n",
              "6         <html   4999    33736     4999   14.817999\n",
              "7          <c++   3665    40158     3665    9.126451\n",
              "8        <mysql   3434    24765     3434   13.866344\n",
              "9       <jquery   3378    32601     3378   10.361645\n",
              "10         <css   3358    23161     3358   14.498510\n",
              "11           <r   3330    19744     3330   16.865883\n",
              "12      <arrays   3191    19867     3191   16.061811\n",
              "13           <c   2784    22166     2784   12.559776\n",
              "14  <python-3.x   2487     7888     2487   31.528905\n",
              "15       <regex   2283    14107     2283   16.183455\n",
              "16       <swift   1967    11197     1967   17.567206\n",
              "17        <json   1950    10705     1950   18.215787\n",
              "18         <sql   1873    17227     1873   10.872468\n",
              "19         <ios   1741    21583     1741    8.066534"
            ],
            "text/html": [
              "\n",
              "  <div id=\"df-15e3e92f-a145-401a-99a2-03c14c4602e5\">\n",
              "    <div class=\"colab-df-container\">\n",
              "      <div>\n",
              "<style scoped>\n",
              "    .dataframe tbody tr th:only-of-type {\n",
              "        vertical-align: middle;\n",
              "    }\n",
              "\n",
              "    .dataframe tbody tr th {\n",
              "        vertical-align: top;\n",
              "    }\n",
              "\n",
              "    .dataframe thead th {\n",
              "        text-align: right;\n",
              "    }\n",
              "</style>\n",
              "<table border=\"1\" class=\"dataframe\">\n",
              "  <thead>\n",
              "    <tr style=\"text-align: right;\">\n",
              "      <th></th>\n",
              "      <th>Tags</th>\n",
              "      <th>Value</th>\n",
              "      <th>Value_x</th>\n",
              "      <th>Value_y</th>\n",
              "      <th>percentage</th>\n",
              "    </tr>\n",
              "  </thead>\n",
              "  <tbody>\n",
              "    <tr>\n",
              "      <th>0</th>\n",
              "      <td>&lt;java</td>\n",
              "      <td>12305</td>\n",
              "      <td>94846</td>\n",
              "      <td>12305</td>\n",
              "      <td>12.973663</td>\n",
              "    </tr>\n",
              "    <tr>\n",
              "      <th>1</th>\n",
              "      <td>&lt;javascript</td>\n",
              "      <td>11903</td>\n",
              "      <td>81346</td>\n",
              "      <td>11903</td>\n",
              "      <td>14.632557</td>\n",
              "    </tr>\n",
              "    <tr>\n",
              "      <th>2</th>\n",
              "      <td>&lt;python</td>\n",
              "      <td>11681</td>\n",
              "      <td>61505</td>\n",
              "      <td>11681</td>\n",
              "      <td>18.991952</td>\n",
              "    </tr>\n",
              "    <tr>\n",
              "      <th>3</th>\n",
              "      <td>&lt;php</td>\n",
              "      <td>8163</td>\n",
              "      <td>65333</td>\n",
              "      <td>8163</td>\n",
              "      <td>12.494452</td>\n",
              "    </tr>\n",
              "    <tr>\n",
              "      <th>4</th>\n",
              "      <td>&lt;c#</td>\n",
              "      <td>7023</td>\n",
              "      <td>61899</td>\n",
              "      <td>7023</td>\n",
              "      <td>11.345902</td>\n",
              "    </tr>\n",
              "    <tr>\n",
              "      <th>5</th>\n",
              "      <td>&lt;android</td>\n",
              "      <td>5290</td>\n",
              "      <td>39910</td>\n",
              "      <td>5290</td>\n",
              "      <td>13.254823</td>\n",
              "    </tr>\n",
              "    <tr>\n",
              "      <th>6</th>\n",
              "      <td>&lt;html</td>\n",
              "      <td>4999</td>\n",
              "      <td>33736</td>\n",
              "      <td>4999</td>\n",
              "      <td>14.817999</td>\n",
              "    </tr>\n",
              "    <tr>\n",
              "      <th>7</th>\n",
              "      <td>&lt;c++</td>\n",
              "      <td>3665</td>\n",
              "      <td>40158</td>\n",
              "      <td>3665</td>\n",
              "      <td>9.126451</td>\n",
              "    </tr>\n",
              "    <tr>\n",
              "      <th>8</th>\n",
              "      <td>&lt;mysql</td>\n",
              "      <td>3434</td>\n",
              "      <td>24765</td>\n",
              "      <td>3434</td>\n",
              "      <td>13.866344</td>\n",
              "    </tr>\n",
              "    <tr>\n",
              "      <th>9</th>\n",
              "      <td>&lt;jquery</td>\n",
              "      <td>3378</td>\n",
              "      <td>32601</td>\n",
              "      <td>3378</td>\n",
              "      <td>10.361645</td>\n",
              "    </tr>\n",
              "    <tr>\n",
              "      <th>10</th>\n",
              "      <td>&lt;css</td>\n",
              "      <td>3358</td>\n",
              "      <td>23161</td>\n",
              "      <td>3358</td>\n",
              "      <td>14.498510</td>\n",
              "    </tr>\n",
              "    <tr>\n",
              "      <th>11</th>\n",
              "      <td>&lt;r</td>\n",
              "      <td>3330</td>\n",
              "      <td>19744</td>\n",
              "      <td>3330</td>\n",
              "      <td>16.865883</td>\n",
              "    </tr>\n",
              "    <tr>\n",
              "      <th>12</th>\n",
              "      <td>&lt;arrays</td>\n",
              "      <td>3191</td>\n",
              "      <td>19867</td>\n",
              "      <td>3191</td>\n",
              "      <td>16.061811</td>\n",
              "    </tr>\n",
              "    <tr>\n",
              "      <th>13</th>\n",
              "      <td>&lt;c</td>\n",
              "      <td>2784</td>\n",
              "      <td>22166</td>\n",
              "      <td>2784</td>\n",
              "      <td>12.559776</td>\n",
              "    </tr>\n",
              "    <tr>\n",
              "      <th>14</th>\n",
              "      <td>&lt;python-3.x</td>\n",
              "      <td>2487</td>\n",
              "      <td>7888</td>\n",
              "      <td>2487</td>\n",
              "      <td>31.528905</td>\n",
              "    </tr>\n",
              "    <tr>\n",
              "      <th>15</th>\n",
              "      <td>&lt;regex</td>\n",
              "      <td>2283</td>\n",
              "      <td>14107</td>\n",
              "      <td>2283</td>\n",
              "      <td>16.183455</td>\n",
              "    </tr>\n",
              "    <tr>\n",
              "      <th>16</th>\n",
              "      <td>&lt;swift</td>\n",
              "      <td>1967</td>\n",
              "      <td>11197</td>\n",
              "      <td>1967</td>\n",
              "      <td>17.567206</td>\n",
              "    </tr>\n",
              "    <tr>\n",
              "      <th>17</th>\n",
              "      <td>&lt;json</td>\n",
              "      <td>1950</td>\n",
              "      <td>10705</td>\n",
              "      <td>1950</td>\n",
              "      <td>18.215787</td>\n",
              "    </tr>\n",
              "    <tr>\n",
              "      <th>18</th>\n",
              "      <td>&lt;sql</td>\n",
              "      <td>1873</td>\n",
              "      <td>17227</td>\n",
              "      <td>1873</td>\n",
              "      <td>10.872468</td>\n",
              "    </tr>\n",
              "    <tr>\n",
              "      <th>19</th>\n",
              "      <td>&lt;ios</td>\n",
              "      <td>1741</td>\n",
              "      <td>21583</td>\n",
              "      <td>1741</td>\n",
              "      <td>8.066534</td>\n",
              "    </tr>\n",
              "  </tbody>\n",
              "</table>\n",
              "</div>\n",
              "      <button class=\"colab-df-convert\" onclick=\"convertToInteractive('df-15e3e92f-a145-401a-99a2-03c14c4602e5')\"\n",
              "              title=\"Convert this dataframe to an interactive table.\"\n",
              "              style=\"display:none;\">\n",
              "        \n",
              "  <svg xmlns=\"http://www.w3.org/2000/svg\" height=\"24px\"viewBox=\"0 0 24 24\"\n",
              "       width=\"24px\">\n",
              "    <path d=\"M0 0h24v24H0V0z\" fill=\"none\"/>\n",
              "    <path d=\"M18.56 5.44l.94 2.06.94-2.06 2.06-.94-2.06-.94-.94-2.06-.94 2.06-2.06.94zm-11 1L8.5 8.5l.94-2.06 2.06-.94-2.06-.94L8.5 2.5l-.94 2.06-2.06.94zm10 10l.94 2.06.94-2.06 2.06-.94-2.06-.94-.94-2.06-.94 2.06-2.06.94z\"/><path d=\"M17.41 7.96l-1.37-1.37c-.4-.4-.92-.59-1.43-.59-.52 0-1.04.2-1.43.59L10.3 9.45l-7.72 7.72c-.78.78-.78 2.05 0 2.83L4 21.41c.39.39.9.59 1.41.59.51 0 1.02-.2 1.41-.59l7.78-7.78 2.81-2.81c.8-.78.8-2.07 0-2.86zM5.41 20L4 18.59l7.72-7.72 1.47 1.35L5.41 20z\"/>\n",
              "  </svg>\n",
              "      </button>\n",
              "      \n",
              "  <style>\n",
              "    .colab-df-container {\n",
              "      display:flex;\n",
              "      flex-wrap:wrap;\n",
              "      gap: 12px;\n",
              "    }\n",
              "\n",
              "    .colab-df-convert {\n",
              "      background-color: #E8F0FE;\n",
              "      border: none;\n",
              "      border-radius: 50%;\n",
              "      cursor: pointer;\n",
              "      display: none;\n",
              "      fill: #1967D2;\n",
              "      height: 32px;\n",
              "      padding: 0 0 0 0;\n",
              "      width: 32px;\n",
              "    }\n",
              "\n",
              "    .colab-df-convert:hover {\n",
              "      background-color: #E2EBFA;\n",
              "      box-shadow: 0px 1px 2px rgba(60, 64, 67, 0.3), 0px 1px 3px 1px rgba(60, 64, 67, 0.15);\n",
              "      fill: #174EA6;\n",
              "    }\n",
              "\n",
              "    [theme=dark] .colab-df-convert {\n",
              "      background-color: #3B4455;\n",
              "      fill: #D2E3FC;\n",
              "    }\n",
              "\n",
              "    [theme=dark] .colab-df-convert:hover {\n",
              "      background-color: #434B5C;\n",
              "      box-shadow: 0px 1px 3px 1px rgba(0, 0, 0, 0.15);\n",
              "      filter: drop-shadow(0px 1px 2px rgba(0, 0, 0, 0.3));\n",
              "      fill: #FFFFFF;\n",
              "    }\n",
              "  </style>\n",
              "\n",
              "      <script>\n",
              "        const buttonEl =\n",
              "          document.querySelector('#df-15e3e92f-a145-401a-99a2-03c14c4602e5 button.colab-df-convert');\n",
              "        buttonEl.style.display =\n",
              "          google.colab.kernel.accessAllowed ? 'block' : 'none';\n",
              "\n",
              "        async function convertToInteractive(key) {\n",
              "          const element = document.querySelector('#df-15e3e92f-a145-401a-99a2-03c14c4602e5');\n",
              "          const dataTable =\n",
              "            await google.colab.kernel.invokeFunction('convertToInteractive',\n",
              "                                                     [key], {});\n",
              "          if (!dataTable) return;\n",
              "\n",
              "          const docLinkHtml = 'Like what you see? Visit the ' +\n",
              "            '<a target=\"_blank\" href=https://colab.research.google.com/notebooks/data_table.ipynb>data table notebook</a>'\n",
              "            + ' to learn more about interactive tables.';\n",
              "          element.innerHTML = '';\n",
              "          dataTable['output_type'] = 'display_data';\n",
              "          await google.colab.output.renderOutput(dataTable, element);\n",
              "          const docLink = document.createElement('div');\n",
              "          docLink.innerHTML = docLinkHtml;\n",
              "          element.appendChild(docLink);\n",
              "        }\n",
              "      </script>\n",
              "    </div>\n",
              "  </div>\n",
              "  "
            ]
          },
          "metadata": {},
          "execution_count": 225
        }
      ]
    },
    {
      "cell_type": "code",
      "source": [
        "x = [i for i in range(len(df_percent))]\n",
        "print(x)"
      ],
      "metadata": {
        "colab": {
          "base_uri": "https://localhost:8080/"
        },
        "id": "PZ9wbVl8H6xD",
        "outputId": "1865b846-8bdf-410f-fac2-88203b67013c"
      },
      "execution_count": 216,
      "outputs": [
        {
          "output_type": "stream",
          "name": "stdout",
          "text": [
            "[0, 1, 2, 3, 4, 5, 6, 7, 8, 9, 10, 11, 12, 13, 14, 15, 16, 17, 18, 19]\n"
          ]
        }
      ]
    },
    {
      "cell_type": "code",
      "source": [
        "duplicated_percentage = []\n",
        "for i in range(len(df_percent)):\n",
        "  duplicated_percentage.append(df_percent['percentage'][i])"
      ],
      "metadata": {
        "id": "tZCmaHd0H8mY"
      },
      "execution_count": 217,
      "outputs": []
    },
    {
      "cell_type": "code",
      "source": [
        "duplicated_percentage"
      ],
      "metadata": {
        "colab": {
          "base_uri": "https://localhost:8080/"
        },
        "id": "byjepXudH-Xx",
        "outputId": "00742916-5a28-4f34-c6bc-cd245ff71c63"
      },
      "execution_count": 218,
      "outputs": [
        {
          "output_type": "execute_result",
          "data": {
            "text/plain": [
              "[12.973662568795733,\n",
              " 14.632557224694514,\n",
              " 18.991951873831393,\n",
              " 12.494451502303583,\n",
              " 11.345902195512043,\n",
              " 13.254823352543221,\n",
              " 14.817998577187574,\n",
              " 9.126450520444246,\n",
              " 13.866343630123158,\n",
              " 10.361645348302199,\n",
              " 14.498510427010924,\n",
              " 16.86588330632091,\n",
              " 16.061811043438865,\n",
              " 12.559776233871695,\n",
              " 31.5289046653144,\n",
              " 16.18345502232934,\n",
              " 17.56720550147361,\n",
              " 18.21578701541336,\n",
              " 10.8724676380101,\n",
              " 8.066533846082564]"
            ]
          },
          "metadata": {},
          "execution_count": 218
        }
      ]
    },
    {
      "cell_type": "code",
      "source": [
        "plt.figure(figsize=(25, 7))\n",
        "plt.plot(x,duplicated_percentage)\n",
        "plt.xlabel(\"Tags\")\n",
        "plt.ylabel(\" Percentage of Duplication\")\n",
        "plt.title(\"Duplication Percentage of tags (top 20)\")\n",
        "\n",
        "lables_of_tags = df_percent['Tags']\n",
        "plt.xticks(x, lables_of_tags, rotation ='vertical')\n",
        "\n",
        "plt.show()"
      ],
      "metadata": {
        "colab": {
          "base_uri": "https://localhost:8080/",
          "height": 452
        },
        "id": "GEKGJ2Q-H_7T",
        "outputId": "950bcf87-05b5-4106-cd72-af015dcb47b9"
      },
      "execution_count": 223,
      "outputs": [
        {
          "output_type": "display_data",
          "data": {
            "text/plain": [
              "<Figure size 1800x504 with 1 Axes>"
            ],
            "image/png": "[encoded data removed]"
          },
          "metadata": {
            "needs_background": "light"
          }
        }
      ]
    },
    {
      "cell_type": "code",
      "source": [
        "lables_of_tags = df_percent['Tags']\n"
      ],
      "metadata": {
        "id": "Nkx1S2u7ICKK"
      },
      "execution_count": 220,
      "outputs": []
    },
    {
      "cell_type": "code",
      "source": [
        "plt.figure(figsize=(25, 7))\n",
        "plt.bar(x, duplicated_percentage, color ='green',\n",
        "        width = 0.4)\n",
        "plt.xlabel(\"Tags name\")\n",
        "plt.ylabel(\"Percentage of Duplication \")\n",
        "plt.title(\"Duplication Percentage of tags (top 20)\")\n",
        "plt.xticks(x, lables_of_tags, rotation ='vertical')\n",
        "plt.show()"
      ],
      "metadata": {
        "colab": {
          "base_uri": "https://localhost:8080/",
          "height": 452
        },
        "id": "u-Mzt2puIE5Z",
        "outputId": "2c07f8f1-5451-4a67-e059-71d258e44a3e"
      },
      "execution_count": 224,
      "outputs": [
        {
          "output_type": "display_data",
          "data": {
            "text/plain": [
              "<Figure size 1800x504 with 1 Axes>"
            ],
            "image/png": "[encoded data removed]"
          },
          "metadata": {
            "needs_background": "light"
          }
        }
      ]
    },
    {
      "cell_type": "code",
      "source": [
        ""
      ],
      "metadata": {
        "id": "l9JuL5F0IJfk"
      },
      "execution_count": null,
      "outputs": []
    }
  ]
}